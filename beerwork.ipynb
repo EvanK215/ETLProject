{
 "cells": [
  {
   "cell_type": "markdown",
   "metadata": {},
   "source": [
    "##File Name - Beerwork\n",
    "#The purpose of this file is to convert data from https://data.opendatasoft.com/explore/dataset/open-beer-database%40public-us/table/\n",
    "#into a cleaner file"
   ]
  },
  {
   "cell_type": "code",
   "execution_count": 98,
   "metadata": {},
   "outputs": [],
   "source": [
    "#dependencies and setup - file name \"beerwork\"\n",
    "import pandas as pd\n",
    "import numpy as np\n",
    "import os\n",
    "import csv\n",
    "import xlrd"
   ]
  },
  {
   "cell_type": "markdown",
   "metadata": {},
   "source": [
    "##Try 1 - ParserError"
   ]
  },
  {
   "cell_type": "code",
   "execution_count": 99,
   "metadata": {},
   "outputs": [],
   "source": [
    "#path to collect data from the resources folder - location on your computer may vary - try 1\n",
    "#beerdata = \"Resources/open-beer-database.csv\" "
   ]
  },
  {
   "cell_type": "code",
   "execution_count": 100,
   "metadata": {},
   "outputs": [],
   "source": [
    "#loading file into dataframe - note data includes non acii characters - try 1 - failed\n",
    "#attempt to load csv file into pandas\n",
    "#beer_db = pd.read_csv(beerdata, encoding= 'unicode_escape')\n",
    "#beer_db.head()\n",
    "#ParserError: Error tokenizing data. C error: Expected 3 fields in line 13, saw 10"
   ]
  },
  {
   "cell_type": "markdown",
   "metadata": {},
   "source": [
    "##Try 2 - Corrupt File"
   ]
  },
  {
   "cell_type": "code",
   "execution_count": 101,
   "metadata": {},
   "outputs": [],
   "source": [
    "#path to collect data from the resources folder - location on your computer may vary - try 2\n",
    "#attempt to load Excel file into pandas\n",
    "#beerdata = \"open-beer-database.xls\" "
   ]
  },
  {
   "cell_type": "code",
   "execution_count": 102,
   "metadata": {},
   "outputs": [],
   "source": [
    "#loading file into dataframe - note data includes non acii characters - try 2 - failed\n",
    "#beer_db = pd.read_excel(beerdata, encoding= 'unicode_escape')\n",
    "#beer_db.head()\n",
    "#XLRDError: Unsupported format, or corrupt file: Expected BOF record; found b'<?xml ve'"
   ]
  },
  {
   "cell_type": "markdown",
   "metadata": {},
   "source": [
    "##Try 3 - Unusable Data"
   ]
  },
  {
   "cell_type": "code",
   "execution_count": 103,
   "metadata": {},
   "outputs": [],
   "source": [
    "#path to collect data from the resources folder - location on your computer may vary - try 3\n",
    "#attempt to rename the Excel file into a csv and attempt to load into pandas\n",
    "#os.rename('open-beer-database.xls', 'open-beer-database.csv') #this only works once\n",
    "#beer_db = pd.read_csv(\"open-beer-database.csv\", error_bad_lines=False)\n",
    "#beer_db.head()\n",
    "#this loads but creates a file unusable data"
   ]
  },
  {
   "cell_type": "markdown",
   "metadata": {},
   "source": [
    "##Try 4 - ParserError"
   ]
  },
  {
   "cell_type": "code",
   "execution_count": 104,
   "metadata": {},
   "outputs": [],
   "source": [
    "#path to collect data from the resources folder - location on your computer may vary - try 4\n",
    "#attempt to rename the Excel file into a csv and attempt to load into pandas\n",
    "#os.rename('open-beer-database.xls', 'open-beer-database.csv') #this only works once\n",
    "#beer_db = pd.read_csv(\"open-beer-database.csv\", encoding= 'unicode_escape') \n",
    "#ParserError: Error tokenizing data. C error: Expected 1 fields in line 9, saw 43"
   ]
  },
  {
   "cell_type": "markdown",
   "metadata": {},
   "source": [
    "##Try 5 - This one works!"
   ]
  },
  {
   "cell_type": "code",
   "execution_count": 105,
   "metadata": {},
   "outputs": [],
   "source": [
    "#path to collect data from the resources folder - location on your computer may vary - try 5\n",
    "#open csv file first in Excel and then save as a csv uft-8 file - this works\n",
    "beer_db = pd.read_csv(\"Resources/open_beer_database_new.csv\")"
   ]
  },
  {
   "cell_type": "code",
   "execution_count": 106,
   "metadata": {
    "scrolled": true
   },
   "outputs": [
    {
     "output_type": "stream",
     "name": "stdout",
     "text": "<class 'pandas.core.frame.DataFrame'>\nRangeIndex: 5973 entries, 0 to 5972\nData columns (total 22 columns):\n #   Column                          Non-Null Count  Dtype  \n---  ------                          --------------  -----  \n 0   Name                            5963 non-null   object \n 1   id                              5973 non-null   object \n 2   brewery_id                      5963 non-null   object \n 3   cat_id                          5950 non-null   object \n 4   style_id                        5949 non-null   object \n 5   Alcohol By Volume               5948 non-null   float64\n 6   International Bitterness Units  5948 non-null   float64\n 7   Standard Reference Method       5948 non-null   float64\n 8   Universal Product Code          5944 non-null   float64\n 9   filepath                        25 non-null     object \n 10  Description                     2046 non-null   object \n 11  add_user                        5930 non-null   object \n 12  last_mod                        5900 non-null   object \n 13  Style                           4466 non-null   object \n 14  Category                        4466 non-null   object \n 15  Brewer                          5948 non-null   object \n 16  Address                         5191 non-null   object \n 17  City                            5921 non-null   object \n 18  State                           5624 non-null   object \n 19  Country                         5948 non-null   object \n 20  Coordinates                     5746 non-null   object \n 21  Website                         2879 non-null   object \ndtypes: float64(4), object(18)\nmemory usage: 1.0+ MB\n"
    }
   ],
   "source": [
    "#study data base\n",
    "beer_db.info()"
   ]
  },
  {
   "cell_type": "code",
   "execution_count": 107,
   "metadata": {
    "scrolled": true
   },
   "outputs": [
    {
     "output_type": "execute_result",
     "data": {
      "text/plain": "              Name    id brewery_id cat_id style_id  Alcohol By Volume  \\\n0  Celis Raspberry  4813        853      5       72                3.9   \n1       Buck Naked  4864        114      8       96                3.2   \n2  Fat Belly Amber    93        879      3       33                0.0   \n3      Belgian Wit    98        901     -1       -1                0.0   \n4      Crystal Ale   172        122     -1       -1                0.0   \n\n   International Bitterness Units  Standard Reference Method  \\\n0                             0.0                        0.0   \n1                             0.0                        0.0   \n2                             0.0                        0.0   \n3                             0.0                        0.0   \n4                             0.0                        0.0   \n\n   Universal Product Code filepath  ...                   last_mod  \\\n0                     0.0      NaN  ...  2010-07-22 16:00:00-04:00   \n1                     0.0      NaN  ...  2010-07-22 16:00:00-04:00   \n2                     0.0      NaN  ...  2010-07-22 16:00:00-04:00   \n3                     0.0      NaN  ...  2010-07-22 16:00:00-04:00   \n4                     0.0      NaN  ...  2010-07-22 16:00:00-04:00   \n\n                          Style                Category  \\\n0      Other Belgian-Style Ales  Belgian and French Ale   \n1    American-Style Light Lager    North American Lager   \n2  American-Style Amber/Red Ale      North American Ale   \n3                           NaN                     NaN   \n4                           NaN                     NaN   \n\n                     Brewer                         Address         City  \\\n0          Michigan Brewing             1093 Highview Drive  Webberville   \n1          Big Buck Brewery      550 South Wisconsin Avenue      Gaylord   \n2           Montana Brewing              113 North Broadway     Billings   \n3  Nebraska Brewing Company  7474 Towne Center Parkway #101    Papillion   \n4           Big Sky Brewing              5417 Trumpeter Way     Missoula   \n\n      State        Country        Coordinates  \\\n0  Michigan  United States  42.6616, -84.1946   \n1  Michigan  United States  45.0223, -84.6826   \n2   Montana  United States  45.7822, -108.506   \n3  Nebraska  United States  41.1339, -96.0307   \n4   Montana  United States  46.9223, -114.073   \n\n                               Website  \n0      http://www.michiganbrewing.com/  \n1  http://www.bigbuck.com/gaylord.html  \n2                                  NaN  \n3                                  NaN  \n4                                  NaN  \n\n[5 rows x 22 columns]",
      "text/html": "<div>\n<style scoped>\n    .dataframe tbody tr th:only-of-type {\n        vertical-align: middle;\n    }\n\n    .dataframe tbody tr th {\n        vertical-align: top;\n    }\n\n    .dataframe thead th {\n        text-align: right;\n    }\n</style>\n<table border=\"1\" class=\"dataframe\">\n  <thead>\n    <tr style=\"text-align: right;\">\n      <th></th>\n      <th>Name</th>\n      <th>id</th>\n      <th>brewery_id</th>\n      <th>cat_id</th>\n      <th>style_id</th>\n      <th>Alcohol By Volume</th>\n      <th>International Bitterness Units</th>\n      <th>Standard Reference Method</th>\n      <th>Universal Product Code</th>\n      <th>filepath</th>\n      <th>...</th>\n      <th>last_mod</th>\n      <th>Style</th>\n      <th>Category</th>\n      <th>Brewer</th>\n      <th>Address</th>\n      <th>City</th>\n      <th>State</th>\n      <th>Country</th>\n      <th>Coordinates</th>\n      <th>Website</th>\n    </tr>\n  </thead>\n  <tbody>\n    <tr>\n      <th>0</th>\n      <td>Celis Raspberry</td>\n      <td>4813</td>\n      <td>853</td>\n      <td>5</td>\n      <td>72</td>\n      <td>3.9</td>\n      <td>0.0</td>\n      <td>0.0</td>\n      <td>0.0</td>\n      <td>NaN</td>\n      <td>...</td>\n      <td>2010-07-22 16:00:00-04:00</td>\n      <td>Other Belgian-Style Ales</td>\n      <td>Belgian and French Ale</td>\n      <td>Michigan Brewing</td>\n      <td>1093 Highview Drive</td>\n      <td>Webberville</td>\n      <td>Michigan</td>\n      <td>United States</td>\n      <td>42.6616, -84.1946</td>\n      <td>http://www.michiganbrewing.com/</td>\n    </tr>\n    <tr>\n      <th>1</th>\n      <td>Buck Naked</td>\n      <td>4864</td>\n      <td>114</td>\n      <td>8</td>\n      <td>96</td>\n      <td>3.2</td>\n      <td>0.0</td>\n      <td>0.0</td>\n      <td>0.0</td>\n      <td>NaN</td>\n      <td>...</td>\n      <td>2010-07-22 16:00:00-04:00</td>\n      <td>American-Style Light Lager</td>\n      <td>North American Lager</td>\n      <td>Big Buck Brewery</td>\n      <td>550 South Wisconsin Avenue</td>\n      <td>Gaylord</td>\n      <td>Michigan</td>\n      <td>United States</td>\n      <td>45.0223, -84.6826</td>\n      <td>http://www.bigbuck.com/gaylord.html</td>\n    </tr>\n    <tr>\n      <th>2</th>\n      <td>Fat Belly Amber</td>\n      <td>93</td>\n      <td>879</td>\n      <td>3</td>\n      <td>33</td>\n      <td>0.0</td>\n      <td>0.0</td>\n      <td>0.0</td>\n      <td>0.0</td>\n      <td>NaN</td>\n      <td>...</td>\n      <td>2010-07-22 16:00:00-04:00</td>\n      <td>American-Style Amber/Red Ale</td>\n      <td>North American Ale</td>\n      <td>Montana Brewing</td>\n      <td>113 North Broadway</td>\n      <td>Billings</td>\n      <td>Montana</td>\n      <td>United States</td>\n      <td>45.7822, -108.506</td>\n      <td>NaN</td>\n    </tr>\n    <tr>\n      <th>3</th>\n      <td>Belgian Wit</td>\n      <td>98</td>\n      <td>901</td>\n      <td>-1</td>\n      <td>-1</td>\n      <td>0.0</td>\n      <td>0.0</td>\n      <td>0.0</td>\n      <td>0.0</td>\n      <td>NaN</td>\n      <td>...</td>\n      <td>2010-07-22 16:00:00-04:00</td>\n      <td>NaN</td>\n      <td>NaN</td>\n      <td>Nebraska Brewing Company</td>\n      <td>7474 Towne Center Parkway #101</td>\n      <td>Papillion</td>\n      <td>Nebraska</td>\n      <td>United States</td>\n      <td>41.1339, -96.0307</td>\n      <td>NaN</td>\n    </tr>\n    <tr>\n      <th>4</th>\n      <td>Crystal Ale</td>\n      <td>172</td>\n      <td>122</td>\n      <td>-1</td>\n      <td>-1</td>\n      <td>0.0</td>\n      <td>0.0</td>\n      <td>0.0</td>\n      <td>0.0</td>\n      <td>NaN</td>\n      <td>...</td>\n      <td>2010-07-22 16:00:00-04:00</td>\n      <td>NaN</td>\n      <td>NaN</td>\n      <td>Big Sky Brewing</td>\n      <td>5417 Trumpeter Way</td>\n      <td>Missoula</td>\n      <td>Montana</td>\n      <td>United States</td>\n      <td>46.9223, -114.073</td>\n      <td>NaN</td>\n    </tr>\n  </tbody>\n</table>\n<p>5 rows × 22 columns</p>\n</div>"
     },
     "metadata": {},
     "execution_count": 107
    }
   ],
   "source": [
    "#study data base\n",
    "beer_db.head()"
   ]
  },
  {
   "cell_type": "code",
   "execution_count": 108,
   "metadata": {},
   "outputs": [],
   "source": [
    "#drop the following columns from the data:\n",
    "# cat_id, style_id, International Bitterness Units, Standard Reference Method, Universal Product Code, Description, filepath, add_user, last_mod, Website\n",
    "beer_db.drop(columns=['cat_id','style_id','Alcohol By Volume', 'International Bitterness Units', 'Standard Reference Method', 'Universal Product Code', 'filepath', 'Description', 'add_user', 'last_mod','Coordinates', 'Website'], inplace=True)"
   ]
  },
  {
   "cell_type": "code",
   "execution_count": 109,
   "metadata": {},
   "outputs": [
    {
     "output_type": "stream",
     "name": "stdout",
     "text": "<class 'pandas.core.frame.DataFrame'>\nRangeIndex: 5973 entries, 0 to 5972\nData columns (total 10 columns):\n #   Column      Non-Null Count  Dtype \n---  ------      --------------  ----- \n 0   Name        5963 non-null   object\n 1   id          5973 non-null   object\n 2   brewery_id  5963 non-null   object\n 3   Style       4466 non-null   object\n 4   Category    4466 non-null   object\n 5   Brewer      5948 non-null   object\n 6   Address     5191 non-null   object\n 7   City        5921 non-null   object\n 8   State       5624 non-null   object\n 9   Country     5948 non-null   object\ndtypes: object(10)\nmemory usage: 466.8+ KB\n"
    }
   ],
   "source": [
    "#study data base after removal of columns\n",
    "beer_db.info()"
   ]
  },
  {
   "cell_type": "code",
   "execution_count": 110,
   "metadata": {},
   "outputs": [],
   "source": [
    "#remove NaN values\n",
    "beer_db = beer_db.dropna(how=\"any\")"
   ]
  },
  {
   "cell_type": "code",
   "execution_count": 111,
   "metadata": {},
   "outputs": [
    {
     "output_type": "stream",
     "name": "stdout",
     "text": "<class 'pandas.core.frame.DataFrame'>\nInt64Index: 3737 entries, 0 to 5972\nData columns (total 10 columns):\n #   Column      Non-Null Count  Dtype \n---  ------      --------------  ----- \n 0   Name        3737 non-null   object\n 1   id          3737 non-null   object\n 2   brewery_id  3737 non-null   object\n 3   Style       3737 non-null   object\n 4   Category    3737 non-null   object\n 5   Brewer      3737 non-null   object\n 6   Address     3737 non-null   object\n 7   City        3737 non-null   object\n 8   State       3737 non-null   object\n 9   Country     3737 non-null   object\ndtypes: object(10)\nmemory usage: 321.1+ KB\n"
    }
   ],
   "source": [
    "#study data base after removal of columns\n",
    "beer_db.info()"
   ]
  },
  {
   "cell_type": "code",
   "execution_count": 112,
   "metadata": {},
   "outputs": [
    {
     "output_type": "execute_result",
     "data": {
      "text/plain": "                   Name    id brewery_id                         Style  \\\n0       Celis Raspberry  4813        853      Other Belgian-Style Ales   \n1            Buck Naked  4864        114    American-Style Light Lager   \n2       Fat Belly Amber    93        879  American-Style Amber/Red Ale   \n9   Log Cabin Nut Brown  1749        754      American-Style Brown Ale   \n10   Golden Wheat Light  1781       1134          American-Style Lager   \n\n                  Category                          Brewer  \\\n0   Belgian and French Ale                Michigan Brewing   \n1     North American Lager                Big Buck Brewery   \n2       North American Ale                 Montana Brewing   \n9       North American Ale  Krogh's Restaurant and Brewpub   \n10    North American Lager                Ship Inn Brewpub   \n\n                       Address         City       State        Country  \n0          1093 Highview Drive  Webberville    Michigan  United States  \n1   550 South Wisconsin Avenue      Gaylord    Michigan  United States  \n2           113 North Broadway     Billings     Montana  United States  \n9          23 White Deer Plaza       Sparta  New Jersey  United States  \n10            61 Bridge Street      Milford  New Jersey  United States  ",
      "text/html": "<div>\n<style scoped>\n    .dataframe tbody tr th:only-of-type {\n        vertical-align: middle;\n    }\n\n    .dataframe tbody tr th {\n        vertical-align: top;\n    }\n\n    .dataframe thead th {\n        text-align: right;\n    }\n</style>\n<table border=\"1\" class=\"dataframe\">\n  <thead>\n    <tr style=\"text-align: right;\">\n      <th></th>\n      <th>Name</th>\n      <th>id</th>\n      <th>brewery_id</th>\n      <th>Style</th>\n      <th>Category</th>\n      <th>Brewer</th>\n      <th>Address</th>\n      <th>City</th>\n      <th>State</th>\n      <th>Country</th>\n    </tr>\n  </thead>\n  <tbody>\n    <tr>\n      <th>0</th>\n      <td>Celis Raspberry</td>\n      <td>4813</td>\n      <td>853</td>\n      <td>Other Belgian-Style Ales</td>\n      <td>Belgian and French Ale</td>\n      <td>Michigan Brewing</td>\n      <td>1093 Highview Drive</td>\n      <td>Webberville</td>\n      <td>Michigan</td>\n      <td>United States</td>\n    </tr>\n    <tr>\n      <th>1</th>\n      <td>Buck Naked</td>\n      <td>4864</td>\n      <td>114</td>\n      <td>American-Style Light Lager</td>\n      <td>North American Lager</td>\n      <td>Big Buck Brewery</td>\n      <td>550 South Wisconsin Avenue</td>\n      <td>Gaylord</td>\n      <td>Michigan</td>\n      <td>United States</td>\n    </tr>\n    <tr>\n      <th>2</th>\n      <td>Fat Belly Amber</td>\n      <td>93</td>\n      <td>879</td>\n      <td>American-Style Amber/Red Ale</td>\n      <td>North American Ale</td>\n      <td>Montana Brewing</td>\n      <td>113 North Broadway</td>\n      <td>Billings</td>\n      <td>Montana</td>\n      <td>United States</td>\n    </tr>\n    <tr>\n      <th>9</th>\n      <td>Log Cabin Nut Brown</td>\n      <td>1749</td>\n      <td>754</td>\n      <td>American-Style Brown Ale</td>\n      <td>North American Ale</td>\n      <td>Krogh's Restaurant and Brewpub</td>\n      <td>23 White Deer Plaza</td>\n      <td>Sparta</td>\n      <td>New Jersey</td>\n      <td>United States</td>\n    </tr>\n    <tr>\n      <th>10</th>\n      <td>Golden Wheat Light</td>\n      <td>1781</td>\n      <td>1134</td>\n      <td>American-Style Lager</td>\n      <td>North American Lager</td>\n      <td>Ship Inn Brewpub</td>\n      <td>61 Bridge Street</td>\n      <td>Milford</td>\n      <td>New Jersey</td>\n      <td>United States</td>\n    </tr>\n  </tbody>\n</table>\n</div>"
     },
     "metadata": {},
     "execution_count": 112
    }
   ],
   "source": [
    "beer_db.head()"
   ]
  },
  {
   "cell_type": "code",
   "execution_count": 113,
   "metadata": {},
   "outputs": [
    {
     "output_type": "execute_result",
     "data": {
      "text/plain": "array(['United States', 'Canada', 'Germany', 'Australia',\n       'United Kingdom', 'Netherlands', 'Russia', 'India', 'Norway',\n       'Belgium', 'Japan', 'Mexico', 'China', 'Ireland', 'Brazil'],\n      dtype=object)"
     },
     "metadata": {},
     "execution_count": 113
    }
   ],
   "source": [
    "#review country to remove any breweries that are not in the United States\n",
    "beer_db.Country.unique()"
   ]
  },
  {
   "cell_type": "code",
   "execution_count": 114,
   "metadata": {},
   "outputs": [
    {
     "output_type": "execute_result",
     "data": {
      "text/plain": "array(['United States'], dtype=object)"
     },
     "metadata": {},
     "execution_count": 114
    }
   ],
   "source": [
    "#remove all countries that are not the United States\n",
    "beer_db = beer_db.loc[beer_db[\"Country\"] == \"United States\", :]\n",
    "beer_db.Country.unique()\n"
   ]
  },
  {
   "cell_type": "code",
   "execution_count": 115,
   "metadata": {},
   "outputs": [
    {
     "output_type": "execute_result",
     "data": {
      "text/plain": "array(['Michigan', 'Montana', 'New Jersey', 'Colorado', 'Wisconsin',\n       'Vermont', 'California', 'Connecticut', 'New York',\n       'New Hampshire', 'Alaska', 'Pennsylvania', 'Illinois',\n       'Massachusetts', 'Nevada', 'Washington', 'Arizona', 'Indiana',\n       'North Carolina', 'New Mexico', 'Nebraska', 'Rhode Island',\n       'Minnesota', 'MA', 'Oregon', 'Utah', 'Louisiana', 'South Carolina',\n       'Wyoming', 'Delaware', 'Missouri', 'Maryland', 'Texas', 'Kentucky',\n       'District of Columbia', 'Florida', 'NJ', 'Georgia', 'Ohio',\n       'Arkansas', 'Hawaii', 'Virginia', 'Tennessee', 'Iowa', 'NC',\n       'Oklahoma', 'Maine', 'MO', 'NY', 'Kansas', 'South Dakota', 'KS',\n       'Idaho', 'OH', 'WI', 'DC', 'MI'], dtype=object)"
     },
     "metadata": {},
     "execution_count": 115
    }
   ],
   "source": [
    "#review state names for consistancy\n",
    "beer_db.State.unique()"
   ]
  },
  {
   "cell_type": "code",
   "execution_count": 116,
   "metadata": {},
   "outputs": [],
   "source": [
    "#convert abbreviated states to full state names to match the DUI data set\n",
    "beer_db.replace({'State': {\"MA\": \"Massachusetts\", \"NJ\": \"New Jersey\", \"NC\": \"North Carolina\", \"MO\": \"Missouri\", \"NY\": \"New York\", \"KS\": \"Kansas\", \"OH\": \"Ohio\", \"WI\": \"Wisconsin\", \"DC\": \"District of Columbia\", \"MI\": \"Michigan\"}}, inplace=True)"
   ]
  },
  {
   "cell_type": "code",
   "execution_count": 117,
   "metadata": {},
   "outputs": [
    {
     "output_type": "execute_result",
     "data": {
      "text/plain": "array(['Michigan', 'Montana', 'New Jersey', 'Colorado', 'Wisconsin',\n       'Vermont', 'California', 'Connecticut', 'New York',\n       'New Hampshire', 'Alaska', 'Pennsylvania', 'Illinois',\n       'Massachusetts', 'Nevada', 'Washington', 'Arizona', 'Indiana',\n       'North Carolina', 'New Mexico', 'Nebraska', 'Rhode Island',\n       'Minnesota', 'Oregon', 'Utah', 'Louisiana', 'South Carolina',\n       'Wyoming', 'Delaware', 'Missouri', 'Maryland', 'Texas', 'Kentucky',\n       'District of Columbia', 'Florida', 'Georgia', 'Ohio', 'Arkansas',\n       'Hawaii', 'Virginia', 'Tennessee', 'Iowa', 'Oklahoma', 'Maine',\n       'Kansas', 'South Dakota', 'Idaho'], dtype=object)"
     },
     "metadata": {},
     "execution_count": 117
    }
   ],
   "source": [
    "#verify converstion to full state names\n",
    "beer_db.State.unique()"
   ]
  },
  {
   "cell_type": "code",
   "execution_count": 118,
   "metadata": {},
   "outputs": [],
   "source": [
    "#there isn't any DUI data for DC/District of Columbia so we will delete those records\n",
    "beer_db = beer_db.loc[beer_db['State'] != \"District of Columbia\", :]"
   ]
  },
  {
   "cell_type": "code",
   "execution_count": 119,
   "metadata": {},
   "outputs": [
    {
     "output_type": "execute_result",
     "data": {
      "text/plain": "array(['Michigan', 'Montana', 'New Jersey', 'Colorado', 'Wisconsin',\n       'Vermont', 'California', 'Connecticut', 'New York',\n       'New Hampshire', 'Alaska', 'Pennsylvania', 'Illinois',\n       'Massachusetts', 'Nevada', 'Washington', 'Arizona', 'Indiana',\n       'North Carolina', 'New Mexico', 'Nebraska', 'Rhode Island',\n       'Minnesota', 'Oregon', 'Utah', 'Louisiana', 'South Carolina',\n       'Wyoming', 'Delaware', 'Missouri', 'Maryland', 'Texas', 'Kentucky',\n       'Florida', 'Georgia', 'Ohio', 'Arkansas', 'Hawaii', 'Virginia',\n       'Tennessee', 'Iowa', 'Oklahoma', 'Maine', 'Kansas', 'South Dakota',\n       'Idaho'], dtype=object)"
     },
     "metadata": {},
     "execution_count": 119
    }
   ],
   "source": [
    "#verify removal of District of Columbia\n",
    "beer_db.State.unique()"
   ]
  },
  {
   "cell_type": "code",
   "execution_count": 120,
   "metadata": {},
   "outputs": [
    {
     "output_type": "stream",
     "name": "stdout",
     "text": "<class 'pandas.core.frame.DataFrame'>\nInt64Index: 3190 entries, 0 to 5972\nData columns (total 10 columns):\n #   Column      Non-Null Count  Dtype \n---  ------      --------------  ----- \n 0   Name        3190 non-null   object\n 1   id          3190 non-null   object\n 2   brewery_id  3190 non-null   object\n 3   Style       3190 non-null   object\n 4   Category    3190 non-null   object\n 5   Brewer      3190 non-null   object\n 6   Address     3190 non-null   object\n 7   City        3190 non-null   object\n 8   State       3190 non-null   object\n 9   Country     3190 non-null   object\ndtypes: object(10)\nmemory usage: 274.1+ KB\n"
    }
   ],
   "source": [
    "#review file structure one last time before saving\n",
    "beer_db.info()"
   ]
  },
  {
   "cell_type": "code",
   "execution_count": 121,
   "metadata": {},
   "outputs": [],
   "source": [
    "#save cleaned data to file\n",
    "beer_db.to_csv(\"Resources/open_beer_db.csv\", encoding='utf-8', index=False)"
   ]
  },
  {
   "cell_type": "code",
   "execution_count": null,
   "metadata": {},
   "outputs": [],
   "source": []
  }
 ],
 "metadata": {
  "kernelspec": {
   "display_name": "Python 3.7.6 64-bit ('PythonData': conda)",
   "language": "python",
   "name": "python37664bitpythondatacondab73bfd16082e40c58c05a61ec360665f"
  },
  "language_info": {
   "codemirror_mode": {
    "name": "ipython",
    "version": 3
   },
   "file_extension": ".py",
   "mimetype": "text/x-python",
   "name": "python",
   "nbconvert_exporter": "python",
   "pygments_lexer": "ipython3",
   "version": "3.7.6-final"
  }
 },
 "nbformat": 4,
 "nbformat_minor": 2
}