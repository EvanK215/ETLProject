{
 "cells": [
  {
   "cell_type": "markdown",
   "metadata": {},
   "source": [
    "##File Name - Beerwork\n",
    "#The purpose of this file is to convert data from https://data.opendatasoft.com/explore/dataset/open-beer-database%40public-us/table/\n",
    "#into a cleaner file"
   ]
  },
  {
   "cell_type": "code",
   "execution_count": 83,
   "metadata": {},
   "outputs": [],
   "source": [
    "#dependencies and setup - file name \"beerwork\"\n",
    "import pandas as pdTest\n",
    "import numpy as np\n",
    "import os\n",
    "import csv\n",
    "import xlrd"
   ]
  },
  {
   "cell_type": "markdown",
   "metadata": {},
   "source": [
    "##Try 1 - ParserError"
   ]
  },
  {
   "cell_type": "code",
   "execution_count": 84,
   "metadata": {},
   "outputs": [],
   "source": [
    "#path to collect data from the resources folder - location on your computer may vary - try 1\n",
    "#beerdata = \"Resources/open-beer-database.csv\" "
   ]
  },
  {
   "cell_type": "code",
   "execution_count": 85,
   "metadata": {},
   "outputs": [],
   "source": [
    "#loading file into dataframe - note data includes non acii characters - try 1 - failed\n",
    "#attempt to load csv file into pandas\n",
    "#beer_db = pd.read_csv(beerdata, encoding= 'unicode_escape')\n",
    "#beer_db.head()\n",
    "#ParserError: Error tokenizing data. C error: Expected 3 fields in line 13, saw 10"
   ]
  },
  {
   "cell_type": "markdown",
   "metadata": {},
   "source": [
    "##Try 2 - Corrupt File"
   ]
  },
  {
   "cell_type": "code",
   "execution_count": 86,
   "metadata": {},
   "outputs": [],
   "source": [
    "#path to collect data from the resources folder - location on your computer may vary - try 2\n",
    "#attempt to load Excel file into pandas\n",
    "#beerdata = \"open-beer-database.xls\" "
   ]
  },
  {
   "cell_type": "code",
   "execution_count": 87,
   "metadata": {},
   "outputs": [],
   "source": [
    "#loading file into dataframe - note data includes non acii characters - try 2 - failed\n",
    "#beer_db = pd.read_excel(beerdata, encoding= 'unicode_escape')\n",
    "#beer_db.head()\n",
    "#XLRDError: Unsupported format, or corrupt file: Expected BOF record; found b'<?xml ve'"
   ]
  },
  {
   "cell_type": "markdown",
   "metadata": {},
   "source": [
    "##Try 3 - Unusable Data"
   ]
  },
  {
   "cell_type": "code",
   "execution_count": 88,
   "metadata": {},
   "outputs": [],
   "source": [
    "#path to collect data from the resources folder - location on your computer may vary - try 3\n",
    "#attempt to rename the Excel file into a csv and attempt to load into pandas\n",
    "#os.rename('open-beer-database.xls', 'open-beer-database.csv') #this only works once\n",
    "#beer_db = pd.read_csv(\"open-beer-database.csv\", error_bad_lines=False)\n",
    "#beer_db.head()\n",
    "#this loads but creates a file unusable data"
   ]
  },
  {
   "cell_type": "markdown",
   "metadata": {},
   "source": [
    "##Try 4 - ParserError"
   ]
  },
  {
   "cell_type": "code",
   "execution_count": 89,
   "metadata": {},
   "outputs": [],
   "source": [
    "#path to collect data from the resources folder - location on your computer may vary - try 4\n",
    "#attempt to rename the Excel file into a csv and attempt to load into pandas\n",
    "#os.rename('open-beer-database.xls', 'open-beer-database.csv') #this only works once\n",
    "#beer_db = pd.read_csv(\"open-beer-database.csv\", encoding= 'unicode_escape') \n",
    "#ParserError: Error tokenizing data. C error: Expected 1 fields in line 9, saw 43"
   ]
  },
  {
   "cell_type": "markdown",
   "metadata": {},
   "source": [
    "##Try 5 - This one works!"
   ]
  },
  {
   "cell_type": "code",
   "execution_count": 90,
   "metadata": {},
   "outputs": [],
   "source": [
    "#path to collect data from the resources folder - location on your computer may vary - try 5\n",
    "#open csv file first in Excel and then save as a csv uft-8 file - this works\n",
    "beer_db = pd.read_csv(\"Resources/open_beer_database_new.csv\")"
   ]
  },
  {
   "cell_type": "code",
   "execution_count": 91,
   "metadata": {
    "scrolled": true
   },
   "outputs": [
    {
     "name": "stdout",
     "output_type": "stream",
     "text": [
      "<class 'pandas.core.frame.DataFrame'>\n",
      "RangeIndex: 5973 entries, 0 to 5972\n",
      "Data columns (total 22 columns):\n",
      " #   Column                          Non-Null Count  Dtype  \n",
      "---  ------                          --------------  -----  \n",
      " 0   Name                            5963 non-null   object \n",
      " 1   id                              5973 non-null   object \n",
      " 2   brewery_id                      5963 non-null   object \n",
      " 3   cat_id                          5950 non-null   object \n",
      " 4   style_id                        5949 non-null   object \n",
      " 5   Alcohol By Volume               5948 non-null   float64\n",
      " 6   International Bitterness Units  5948 non-null   float64\n",
      " 7   Standard Reference Method       5948 non-null   float64\n",
      " 8   Universal Product Code          5944 non-null   float64\n",
      " 9   filepath                        25 non-null     object \n",
      " 10  Description                     2046 non-null   object \n",
      " 11  add_user                        5930 non-null   object \n",
      " 12  last_mod                        5900 non-null   object \n",
      " 13  Style                           4466 non-null   object \n",
      " 14  Category                        4466 non-null   object \n",
      " 15  Brewer                          5948 non-null   object \n",
      " 16  Address                         5191 non-null   object \n",
      " 17  City                            5921 non-null   object \n",
      " 18  State                           5624 non-null   object \n",
      " 19  Country                         5948 non-null   object \n",
      " 20  Coordinates                     5746 non-null   object \n",
      " 21  Website                         2879 non-null   object \n",
      "dtypes: float64(4), object(18)\n",
      "memory usage: 1.0+ MB\n"
     ]
    }
   ],
   "source": [
    "#study data base\n",
    "beer_db.info()"
   ]
  },
  {
   "cell_type": "code",
   "execution_count": 92,
   "metadata": {
    "scrolled": true
   },
   "outputs": [
    {
     "data": {
      "text/html": [
       "<div>\n",
       "<style scoped>\n",
       "    .dataframe tbody tr th:only-of-type {\n",
       "        vertical-align: middle;\n",
       "    }\n",
       "\n",
       "    .dataframe tbody tr th {\n",
       "        vertical-align: top;\n",
       "    }\n",
       "\n",
       "    .dataframe thead th {\n",
       "        text-align: right;\n",
       "    }\n",
       "</style>\n",
       "<table border=\"1\" class=\"dataframe\">\n",
       "  <thead>\n",
       "    <tr style=\"text-align: right;\">\n",
       "      <th></th>\n",
       "      <th>Name</th>\n",
       "      <th>id</th>\n",
       "      <th>brewery_id</th>\n",
       "      <th>cat_id</th>\n",
       "      <th>style_id</th>\n",
       "      <th>Alcohol By Volume</th>\n",
       "      <th>International Bitterness Units</th>\n",
       "      <th>Standard Reference Method</th>\n",
       "      <th>Universal Product Code</th>\n",
       "      <th>filepath</th>\n",
       "      <th>...</th>\n",
       "      <th>last_mod</th>\n",
       "      <th>Style</th>\n",
       "      <th>Category</th>\n",
       "      <th>Brewer</th>\n",
       "      <th>Address</th>\n",
       "      <th>City</th>\n",
       "      <th>State</th>\n",
       "      <th>Country</th>\n",
       "      <th>Coordinates</th>\n",
       "      <th>Website</th>\n",
       "    </tr>\n",
       "  </thead>\n",
       "  <tbody>\n",
       "    <tr>\n",
       "      <th>0</th>\n",
       "      <td>Celis Raspberry</td>\n",
       "      <td>4813</td>\n",
       "      <td>853</td>\n",
       "      <td>5</td>\n",
       "      <td>72</td>\n",
       "      <td>3.9</td>\n",
       "      <td>0.0</td>\n",
       "      <td>0.0</td>\n",
       "      <td>0.0</td>\n",
       "      <td>NaN</td>\n",
       "      <td>...</td>\n",
       "      <td>2010-07-22 16:00:00-04:00</td>\n",
       "      <td>Other Belgian-Style Ales</td>\n",
       "      <td>Belgian and French Ale</td>\n",
       "      <td>Michigan Brewing</td>\n",
       "      <td>1093 Highview Drive</td>\n",
       "      <td>Webberville</td>\n",
       "      <td>Michigan</td>\n",
       "      <td>United States</td>\n",
       "      <td>42.6616, -84.1946</td>\n",
       "      <td>http://www.michiganbrewing.com/</td>\n",
       "    </tr>\n",
       "    <tr>\n",
       "      <th>1</th>\n",
       "      <td>Buck Naked</td>\n",
       "      <td>4864</td>\n",
       "      <td>114</td>\n",
       "      <td>8</td>\n",
       "      <td>96</td>\n",
       "      <td>3.2</td>\n",
       "      <td>0.0</td>\n",
       "      <td>0.0</td>\n",
       "      <td>0.0</td>\n",
       "      <td>NaN</td>\n",
       "      <td>...</td>\n",
       "      <td>2010-07-22 16:00:00-04:00</td>\n",
       "      <td>American-Style Light Lager</td>\n",
       "      <td>North American Lager</td>\n",
       "      <td>Big Buck Brewery</td>\n",
       "      <td>550 South Wisconsin Avenue</td>\n",
       "      <td>Gaylord</td>\n",
       "      <td>Michigan</td>\n",
       "      <td>United States</td>\n",
       "      <td>45.0223, -84.6826</td>\n",
       "      <td>http://www.bigbuck.com/gaylord.html</td>\n",
       "    </tr>\n",
       "    <tr>\n",
       "      <th>2</th>\n",
       "      <td>Fat Belly Amber</td>\n",
       "      <td>93</td>\n",
       "      <td>879</td>\n",
       "      <td>3</td>\n",
       "      <td>33</td>\n",
       "      <td>0.0</td>\n",
       "      <td>0.0</td>\n",
       "      <td>0.0</td>\n",
       "      <td>0.0</td>\n",
       "      <td>NaN</td>\n",
       "      <td>...</td>\n",
       "      <td>2010-07-22 16:00:00-04:00</td>\n",
       "      <td>American-Style Amber/Red Ale</td>\n",
       "      <td>North American Ale</td>\n",
       "      <td>Montana Brewing</td>\n",
       "      <td>113 North Broadway</td>\n",
       "      <td>Billings</td>\n",
       "      <td>Montana</td>\n",
       "      <td>United States</td>\n",
       "      <td>45.7822, -108.506</td>\n",
       "      <td>NaN</td>\n",
       "    </tr>\n",
       "    <tr>\n",
       "      <th>3</th>\n",
       "      <td>Belgian Wit</td>\n",
       "      <td>98</td>\n",
       "      <td>901</td>\n",
       "      <td>-1</td>\n",
       "      <td>-1</td>\n",
       "      <td>0.0</td>\n",
       "      <td>0.0</td>\n",
       "      <td>0.0</td>\n",
       "      <td>0.0</td>\n",
       "      <td>NaN</td>\n",
       "      <td>...</td>\n",
       "      <td>2010-07-22 16:00:00-04:00</td>\n",
       "      <td>NaN</td>\n",
       "      <td>NaN</td>\n",
       "      <td>Nebraska Brewing Company</td>\n",
       "      <td>7474 Towne Center Parkway #101</td>\n",
       "      <td>Papillion</td>\n",
       "      <td>Nebraska</td>\n",
       "      <td>United States</td>\n",
       "      <td>41.1339, -96.0307</td>\n",
       "      <td>NaN</td>\n",
       "    </tr>\n",
       "    <tr>\n",
       "      <th>4</th>\n",
       "      <td>Crystal Ale</td>\n",
       "      <td>172</td>\n",
       "      <td>122</td>\n",
       "      <td>-1</td>\n",
       "      <td>-1</td>\n",
       "      <td>0.0</td>\n",
       "      <td>0.0</td>\n",
       "      <td>0.0</td>\n",
       "      <td>0.0</td>\n",
       "      <td>NaN</td>\n",
       "      <td>...</td>\n",
       "      <td>2010-07-22 16:00:00-04:00</td>\n",
       "      <td>NaN</td>\n",
       "      <td>NaN</td>\n",
       "      <td>Big Sky Brewing</td>\n",
       "      <td>5417 Trumpeter Way</td>\n",
       "      <td>Missoula</td>\n",
       "      <td>Montana</td>\n",
       "      <td>United States</td>\n",
       "      <td>46.9223, -114.073</td>\n",
       "      <td>NaN</td>\n",
       "    </tr>\n",
       "  </tbody>\n",
       "</table>\n",
       "<p>5 rows × 22 columns</p>\n",
       "</div>"
      ],
      "text/plain": [
       "              Name    id brewery_id cat_id style_id  Alcohol By Volume  \\\n",
       "0  Celis Raspberry  4813        853      5       72                3.9   \n",
       "1       Buck Naked  4864        114      8       96                3.2   \n",
       "2  Fat Belly Amber    93        879      3       33                0.0   \n",
       "3      Belgian Wit    98        901     -1       -1                0.0   \n",
       "4      Crystal Ale   172        122     -1       -1                0.0   \n",
       "\n",
       "   International Bitterness Units  Standard Reference Method  \\\n",
       "0                             0.0                        0.0   \n",
       "1                             0.0                        0.0   \n",
       "2                             0.0                        0.0   \n",
       "3                             0.0                        0.0   \n",
       "4                             0.0                        0.0   \n",
       "\n",
       "   Universal Product Code filepath  ...                   last_mod  \\\n",
       "0                     0.0      NaN  ...  2010-07-22 16:00:00-04:00   \n",
       "1                     0.0      NaN  ...  2010-07-22 16:00:00-04:00   \n",
       "2                     0.0      NaN  ...  2010-07-22 16:00:00-04:00   \n",
       "3                     0.0      NaN  ...  2010-07-22 16:00:00-04:00   \n",
       "4                     0.0      NaN  ...  2010-07-22 16:00:00-04:00   \n",
       "\n",
       "                          Style                Category  \\\n",
       "0      Other Belgian-Style Ales  Belgian and French Ale   \n",
       "1    American-Style Light Lager    North American Lager   \n",
       "2  American-Style Amber/Red Ale      North American Ale   \n",
       "3                           NaN                     NaN   \n",
       "4                           NaN                     NaN   \n",
       "\n",
       "                     Brewer                         Address         City  \\\n",
       "0          Michigan Brewing             1093 Highview Drive  Webberville   \n",
       "1          Big Buck Brewery      550 South Wisconsin Avenue      Gaylord   \n",
       "2           Montana Brewing              113 North Broadway     Billings   \n",
       "3  Nebraska Brewing Company  7474 Towne Center Parkway #101    Papillion   \n",
       "4           Big Sky Brewing              5417 Trumpeter Way     Missoula   \n",
       "\n",
       "      State        Country        Coordinates  \\\n",
       "0  Michigan  United States  42.6616, -84.1946   \n",
       "1  Michigan  United States  45.0223, -84.6826   \n",
       "2   Montana  United States  45.7822, -108.506   \n",
       "3  Nebraska  United States  41.1339, -96.0307   \n",
       "4   Montana  United States  46.9223, -114.073   \n",
       "\n",
       "                               Website  \n",
       "0      http://www.michiganbrewing.com/  \n",
       "1  http://www.bigbuck.com/gaylord.html  \n",
       "2                                  NaN  \n",
       "3                                  NaN  \n",
       "4                                  NaN  \n",
       "\n",
       "[5 rows x 22 columns]"
      ]
     },
     "execution_count": 92,
     "metadata": {},
     "output_type": "execute_result"
    }
   ],
   "source": [
    "#study data base\n",
    "beer_db.head()"
   ]
  },
  {
   "cell_type": "code",
   "execution_count": 93,
   "metadata": {},
   "outputs": [],
   "source": [
    "#drop the following columns from the data:\n",
    "# Standard Reference Method, Universal Product Code, Description, filepath, add_user, last_mod, Website\n",
    "beer_db.drop(columns=['Standard Reference Method', 'Universal Product Code', 'filepath', 'Description', 'add_user', 'last_mod','Coordinates', 'Website'], inplace=True)"
   ]
  },
  {
   "cell_type": "code",
   "execution_count": 94,
   "metadata": {},
   "outputs": [
    {
     "name": "stdout",
     "output_type": "stream",
     "text": [
      "<class 'pandas.core.frame.DataFrame'>\n",
      "RangeIndex: 5973 entries, 0 to 5972\n",
      "Data columns (total 14 columns):\n",
      " #   Column                          Non-Null Count  Dtype  \n",
      "---  ------                          --------------  -----  \n",
      " 0   Name                            5963 non-null   object \n",
      " 1   id                              5973 non-null   object \n",
      " 2   brewery_id                      5963 non-null   object \n",
      " 3   cat_id                          5950 non-null   object \n",
      " 4   style_id                        5949 non-null   object \n",
      " 5   Alcohol By Volume               5948 non-null   float64\n",
      " 6   International Bitterness Units  5948 non-null   float64\n",
      " 7   Style                           4466 non-null   object \n",
      " 8   Category                        4466 non-null   object \n",
      " 9   Brewer                          5948 non-null   object \n",
      " 10  Address                         5191 non-null   object \n",
      " 11  City                            5921 non-null   object \n",
      " 12  State                           5624 non-null   object \n",
      " 13  Country                         5948 non-null   object \n",
      "dtypes: float64(2), object(12)\n",
      "memory usage: 653.4+ KB\n"
     ]
    }
   ],
   "source": [
    "#study data base after removal of columns\n",
    "beer_db.info()"
   ]
  },
  {
   "cell_type": "code",
   "execution_count": 95,
   "metadata": {},
   "outputs": [],
   "source": [
    "#remove NaN values\n",
    "beer_db = beer_db.dropna(how=\"any\")"
   ]
  },
  {
   "cell_type": "code",
   "execution_count": 96,
   "metadata": {},
   "outputs": [
    {
     "name": "stdout",
     "output_type": "stream",
     "text": [
      "<class 'pandas.core.frame.DataFrame'>\n",
      "Int64Index: 3737 entries, 0 to 5972\n",
      "Data columns (total 14 columns):\n",
      " #   Column                          Non-Null Count  Dtype  \n",
      "---  ------                          --------------  -----  \n",
      " 0   Name                            3737 non-null   object \n",
      " 1   id                              3737 non-null   object \n",
      " 2   brewery_id                      3737 non-null   object \n",
      " 3   cat_id                          3737 non-null   object \n",
      " 4   style_id                        3737 non-null   object \n",
      " 5   Alcohol By Volume               3737 non-null   float64\n",
      " 6   International Bitterness Units  3737 non-null   float64\n",
      " 7   Style                           3737 non-null   object \n",
      " 8   Category                        3737 non-null   object \n",
      " 9   Brewer                          3737 non-null   object \n",
      " 10  Address                         3737 non-null   object \n",
      " 11  City                            3737 non-null   object \n",
      " 12  State                           3737 non-null   object \n",
      " 13  Country                         3737 non-null   object \n",
      "dtypes: float64(2), object(12)\n",
      "memory usage: 437.9+ KB\n"
     ]
    }
   ],
   "source": [
    "#study data base after removal of columns\n",
    "beer_db.info()"
   ]
  },
  {
   "cell_type": "code",
   "execution_count": 97,
   "metadata": {},
   "outputs": [
    {
     "data": {
      "text/html": [
       "<div>\n",
       "<style scoped>\n",
       "    .dataframe tbody tr th:only-of-type {\n",
       "        vertical-align: middle;\n",
       "    }\n",
       "\n",
       "    .dataframe tbody tr th {\n",
       "        vertical-align: top;\n",
       "    }\n",
       "\n",
       "    .dataframe thead th {\n",
       "        text-align: right;\n",
       "    }\n",
       "</style>\n",
       "<table border=\"1\" class=\"dataframe\">\n",
       "  <thead>\n",
       "    <tr style=\"text-align: right;\">\n",
       "      <th></th>\n",
       "      <th>Name</th>\n",
       "      <th>id</th>\n",
       "      <th>brewery_id</th>\n",
       "      <th>cat_id</th>\n",
       "      <th>style_id</th>\n",
       "      <th>Alcohol By Volume</th>\n",
       "      <th>International Bitterness Units</th>\n",
       "      <th>Style</th>\n",
       "      <th>Category</th>\n",
       "      <th>Brewer</th>\n",
       "      <th>Address</th>\n",
       "      <th>City</th>\n",
       "      <th>State</th>\n",
       "      <th>Country</th>\n",
       "    </tr>\n",
       "  </thead>\n",
       "  <tbody>\n",
       "    <tr>\n",
       "      <th>5964</th>\n",
       "      <td>Black Jack Black and Tan</td>\n",
       "      <td>3631</td>\n",
       "      <td>1334</td>\n",
       "      <td>8</td>\n",
       "      <td>95</td>\n",
       "      <td>0.0</td>\n",
       "      <td>0.0</td>\n",
       "      <td>American-Style Lager</td>\n",
       "      <td>North American Lager</td>\n",
       "      <td>Wainwright Brewing</td>\n",
       "      <td>3410 Sassafras Street</td>\n",
       "      <td>Pittsburgh</td>\n",
       "      <td>Pennsylvania</td>\n",
       "      <td>United States</td>\n",
       "    </tr>\n",
       "    <tr>\n",
       "      <th>5966</th>\n",
       "      <td>Labatt Wildcat</td>\n",
       "      <td>3862</td>\n",
       "      <td>762</td>\n",
       "      <td>8</td>\n",
       "      <td>95</td>\n",
       "      <td>4.9</td>\n",
       "      <td>0.0</td>\n",
       "      <td>American-Style Lager</td>\n",
       "      <td>North American Lager</td>\n",
       "      <td>Labatt Ontario Breweries</td>\n",
       "      <td>150 Simcoe Street</td>\n",
       "      <td>London</td>\n",
       "      <td>Ontario</td>\n",
       "      <td>Canada</td>\n",
       "    </tr>\n",
       "    <tr>\n",
       "      <th>5967</th>\n",
       "      <td>Zephyr Golden Ale</td>\n",
       "      <td>2060</td>\n",
       "      <td>536</td>\n",
       "      <td>3</td>\n",
       "      <td>26</td>\n",
       "      <td>0.0</td>\n",
       "      <td>0.0</td>\n",
       "      <td>American-Style Pale Ale</td>\n",
       "      <td>North American Ale</td>\n",
       "      <td>Flossmoor Station Brewery</td>\n",
       "      <td>1035 Sterling Avenue</td>\n",
       "      <td>Flossmoor</td>\n",
       "      <td>Illinois</td>\n",
       "      <td>United States</td>\n",
       "    </tr>\n",
       "    <tr>\n",
       "      <th>5970</th>\n",
       "      <td>Chestnut Brown Ale</td>\n",
       "      <td>2771</td>\n",
       "      <td>478</td>\n",
       "      <td>3</td>\n",
       "      <td>38</td>\n",
       "      <td>0.0</td>\n",
       "      <td>0.0</td>\n",
       "      <td>American-Style Brown Ale</td>\n",
       "      <td>North American Ale</td>\n",
       "      <td>Eddie McStiff's Brewpub</td>\n",
       "      <td>57 South Main Street</td>\n",
       "      <td>Moab</td>\n",
       "      <td>Utah</td>\n",
       "      <td>United States</td>\n",
       "    </tr>\n",
       "    <tr>\n",
       "      <th>5972</th>\n",
       "      <td>Stone House Stout</td>\n",
       "      <td>4535</td>\n",
       "      <td>920</td>\n",
       "      <td>1</td>\n",
       "      <td>21</td>\n",
       "      <td>0.0</td>\n",
       "      <td>0.0</td>\n",
       "      <td>Oatmeal Stout</td>\n",
       "      <td>British Ale</td>\n",
       "      <td>North Country Brewery</td>\n",
       "      <td>141 South Main Street</td>\n",
       "      <td>Slippery Rock</td>\n",
       "      <td>Pennsylvania</td>\n",
       "      <td>United States</td>\n",
       "    </tr>\n",
       "  </tbody>\n",
       "</table>\n",
       "</div>"
      ],
      "text/plain": [
       "                          Name    id brewery_id cat_id style_id  \\\n",
       "5964  Black Jack Black and Tan  3631       1334      8       95   \n",
       "5966            Labatt Wildcat  3862        762      8       95   \n",
       "5967         Zephyr Golden Ale  2060        536      3       26   \n",
       "5970        Chestnut Brown Ale  2771        478      3       38   \n",
       "5972         Stone House Stout  4535        920      1       21   \n",
       "\n",
       "      Alcohol By Volume  International Bitterness Units  \\\n",
       "5964                0.0                             0.0   \n",
       "5966                4.9                             0.0   \n",
       "5967                0.0                             0.0   \n",
       "5970                0.0                             0.0   \n",
       "5972                0.0                             0.0   \n",
       "\n",
       "                         Style              Category  \\\n",
       "5964      American-Style Lager  North American Lager   \n",
       "5966      American-Style Lager  North American Lager   \n",
       "5967   American-Style Pale Ale    North American Ale   \n",
       "5970  American-Style Brown Ale    North American Ale   \n",
       "5972             Oatmeal Stout           British Ale   \n",
       "\n",
       "                         Brewer                Address           City  \\\n",
       "5964         Wainwright Brewing  3410 Sassafras Street     Pittsburgh   \n",
       "5966   Labatt Ontario Breweries      150 Simcoe Street         London   \n",
       "5967  Flossmoor Station Brewery   1035 Sterling Avenue      Flossmoor   \n",
       "5970    Eddie McStiff's Brewpub   57 South Main Street           Moab   \n",
       "5972      North Country Brewery  141 South Main Street  Slippery Rock   \n",
       "\n",
       "             State        Country  \n",
       "5964  Pennsylvania  United States  \n",
       "5966       Ontario         Canada  \n",
       "5967      Illinois  United States  \n",
       "5970          Utah  United States  \n",
       "5972  Pennsylvania  United States  "
      ]
     },
     "execution_count": 97,
     "metadata": {},
     "output_type": "execute_result"
    }
   ],
   "source": [
    "beer_db.tail()"
   ]
  },
  {
   "cell_type": "code",
   "execution_count": 98,
   "metadata": {},
   "outputs": [
    {
     "name": "stdout",
     "output_type": "stream",
     "text": [
      "brewery_id\n",
      "1        8\n",
      "10      20\n",
      "100     25\n",
      "1000     1\n",
      "1002     3\n",
      "        ..\n",
      "981      4\n",
      "983      2\n",
      "984      6\n",
      "986      1\n",
      "999      4\n",
      "Name: Name, Length: 813, dtype: int64\n"
     ]
    }
   ],
   "source": [
    "#groupby brewery by name of beer\n",
    "brew = beer_db.groupby('brewery_id').count()[\"Name\"]\n",
    "print(brew)"
   ]
  },
  {
   "cell_type": "code",
   "execution_count": 99,
   "metadata": {},
   "outputs": [],
   "source": [
    "#save cleaned data to file\n",
    "beer_db.to_csv(\"open_beer_db\", encoding='utf-8', index=False)"
   ]
  },
  {
   "cell_type": "code",
   "execution_count": null,
   "metadata": {},
   "outputs": [],
   "source": []
  }
 ],
 "metadata": {
  "kernelspec": {
   "display_name": "Python 3.7.6 64-bit ('PythonData': conda)",
   "language": "python",
   "name": "python37664bitpythondatacondab73bfd16082e40c58c05a61ec360665f"
  },
  "language_info": {
   "codemirror_mode": {
    "name": "ipython",
    "version": 3
   },
   "file_extension": ".py",
   "mimetype": "text/x-python",
   "name": "python",
   "nbconvert_exporter": "python",
   "pygments_lexer": "ipython3",
   "version": "3.7.6"
  }
 },
 "nbformat": 4,
 "nbformat_minor": 2
}