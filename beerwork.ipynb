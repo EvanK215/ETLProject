{
 "cells": [
  {
   "cell_type": "markdown",
   "metadata": {},
   "source": [
    "##File Name - Beerwork\n",
    "#The purpose of this file is to convert data from https://data.opendatasoft.com/explore/dataset/open-beer-database%40public-us/table/\n",
    "#into a cleaner file"
   ]
  },
  {
   "cell_type": "code",
   "execution_count": 2,
   "metadata": {},
   "outputs": [],
   "source": [
    "#dependencies and setup - file name \"beerwork\"\n",
    "import pandas as pd\n",
    "import numpy as np\n",
    "import os\n",
    "import csv\n",
    "import xlrd\n",
    "from sqlalchemy import create_engine"
   ]
  },
  {
   "cell_type": "markdown",
   "metadata": {},
   "source": [
    "##Try 1 - ParserError"
   ]
  },
  {
   "cell_type": "code",
   "execution_count": 3,
   "metadata": {},
   "outputs": [],
   "source": [
    "#path to collect data from the resources folder - location on your computer may vary - try 1\n",
    "#beerdata = \"Resources/open-beer-database.csv\" "
   ]
  },
  {
   "cell_type": "code",
   "execution_count": 4,
   "metadata": {},
   "outputs": [],
   "source": [
    "#loading file into dataframe - note data includes non acii characters - try 1 - failed\n",
    "#attempt to load csv file into pandas\n",
    "#beer_db = pd.read_csv(beerdata, encoding= 'unicode_escape')\n",
    "#beer_db.head()\n",
    "#ParserError: Error tokenizing data. C error: Expected 3 fields in line 13, saw 10"
   ]
  },
  {
   "cell_type": "markdown",
   "metadata": {},
   "source": [
    "##Try 2 - Corrupt File"
   ]
  },
  {
   "cell_type": "code",
   "execution_count": 5,
   "metadata": {},
   "outputs": [],
   "source": [
    "#path to collect data from the resources folder - location on your computer may vary - try 2\n",
    "#attempt to load Excel file into pandas\n",
    "#beerdata = \"open-beer-database.xls\" "
   ]
  },
  {
   "cell_type": "code",
   "execution_count": 6,
   "metadata": {},
   "outputs": [],
   "source": [
    "#loading file into dataframe - note data includes non acii characters - try 2 - failed\n",
    "#beer_db = pd.read_excel(beerdata, encoding= 'unicode_escape')\n",
    "#beer_db.head()\n",
    "#XLRDError: Unsupported format, or corrupt file: Expected BOF record; found b'<?xml ve'"
   ]
  },
  {
   "cell_type": "markdown",
   "metadata": {},
   "source": [
    "##Try 3 - Unusable Data"
   ]
  },
  {
   "cell_type": "code",
   "execution_count": 7,
   "metadata": {},
   "outputs": [],
   "source": [
    "#path to collect data from the resources folder - location on your computer may vary - try 3\n",
    "#attempt to rename the Excel file into a csv and attempt to load into pandas\n",
    "#os.rename('open-beer-database.xls', 'open-beer-database.csv') #this only works once\n",
    "#beer_db = pd.read_csv(\"open-beer-database.csv\", error_bad_lines=False)\n",
    "#beer_db.head()\n",
    "#this loads but creates a file unusable data"
   ]
  },
  {
   "cell_type": "markdown",
   "metadata": {},
   "source": [
    "##Try 4 - ParserError"
   ]
  },
  {
   "cell_type": "code",
   "execution_count": 8,
   "metadata": {},
   "outputs": [],
   "source": [
    "#path to collect data from the resources folder - location on your computer may vary - try 4\n",
    "#attempt to rename the Excel file into a csv and attempt to load into pandas\n",
    "#os.rename('open-beer-database.xls', 'open-beer-database.csv') #this only works once\n",
    "#beer_db = pd.read_csv(\"open-beer-database.csv\", encoding= 'unicode_escape') \n",
    "#ParserError: Error tokenizing data. C error: Expected 1 fields in line 9, saw 43"
   ]
  },
  {
   "cell_type": "markdown",
   "metadata": {},
   "source": [
    "##Try 5 - This one works!"
   ]
  },
  {
   "cell_type": "code",
   "execution_count": 9,
   "metadata": {},
   "outputs": [],
   "source": [
    "#path to collect data from the resources folder - location on your computer may vary - try 5\n",
    "#open csv file first in Excel and then save as a csv uft-8 file - this works\n",
    "beer_db = pd.read_csv(\"Resources/open_beer_database_new.csv\")"
   ]
  },
  {
   "cell_type": "code",
   "execution_count": 10,
   "metadata": {
    "scrolled": true
   },
   "outputs": [
    {
     "name": "stdout",
     "output_type": "stream",
     "text": [
      "<class 'pandas.core.frame.DataFrame'>\n",
      "RangeIndex: 5973 entries, 0 to 5972\n",
      "Data columns (total 22 columns):\n",
      " #   Column                          Non-Null Count  Dtype  \n",
      "---  ------                          --------------  -----  \n",
      " 0   Name                            5963 non-null   object \n",
      " 1   id                              5973 non-null   object \n",
      " 2   brewery_id                      5963 non-null   object \n",
      " 3   cat_id                          5950 non-null   object \n",
      " 4   style_id                        5949 non-null   object \n",
      " 5   Alcohol By Volume               5948 non-null   float64\n",
      " 6   International Bitterness Units  5948 non-null   float64\n",
      " 7   Standard Reference Method       5948 non-null   float64\n",
      " 8   Universal Product Code          5944 non-null   float64\n",
      " 9   filepath                        25 non-null     object \n",
      " 10  Description                     2046 non-null   object \n",
      " 11  add_user                        5930 non-null   object \n",
      " 12  last_mod                        5900 non-null   object \n",
      " 13  Style                           4466 non-null   object \n",
      " 14  Category                        4466 non-null   object \n",
      " 15  Brewer                          5948 non-null   object \n",
      " 16  Address                         5191 non-null   object \n",
      " 17  City                            5921 non-null   object \n",
      " 18  State                           5624 non-null   object \n",
      " 19  Country                         5948 non-null   object \n",
      " 20  Coordinates                     5746 non-null   object \n",
      " 21  Website                         2879 non-null   object \n",
      "dtypes: float64(4), object(18)\n",
      "memory usage: 1.0+ MB\n"
     ]
    }
   ],
   "source": [
    "#study data base\n",
    "beer_db.info()"
   ]
  },
  {
   "cell_type": "code",
   "execution_count": 11,
   "metadata": {
    "scrolled": true
   },
   "outputs": [
    {
     "data": {
      "text/html": [
       "<div>\n",
       "<style scoped>\n",
       "    .dataframe tbody tr th:only-of-type {\n",
       "        vertical-align: middle;\n",
       "    }\n",
       "\n",
       "    .dataframe tbody tr th {\n",
       "        vertical-align: top;\n",
       "    }\n",
       "\n",
       "    .dataframe thead th {\n",
       "        text-align: right;\n",
       "    }\n",
       "</style>\n",
       "<table border=\"1\" class=\"dataframe\">\n",
       "  <thead>\n",
       "    <tr style=\"text-align: right;\">\n",
       "      <th></th>\n",
       "      <th>Name</th>\n",
       "      <th>id</th>\n",
       "      <th>brewery_id</th>\n",
       "      <th>cat_id</th>\n",
       "      <th>style_id</th>\n",
       "      <th>Alcohol By Volume</th>\n",
       "      <th>International Bitterness Units</th>\n",
       "      <th>Standard Reference Method</th>\n",
       "      <th>Universal Product Code</th>\n",
       "      <th>filepath</th>\n",
       "      <th>...</th>\n",
       "      <th>last_mod</th>\n",
       "      <th>Style</th>\n",
       "      <th>Category</th>\n",
       "      <th>Brewer</th>\n",
       "      <th>Address</th>\n",
       "      <th>City</th>\n",
       "      <th>State</th>\n",
       "      <th>Country</th>\n",
       "      <th>Coordinates</th>\n",
       "      <th>Website</th>\n",
       "    </tr>\n",
       "  </thead>\n",
       "  <tbody>\n",
       "    <tr>\n",
       "      <th>0</th>\n",
       "      <td>Celis Raspberry</td>\n",
       "      <td>4813</td>\n",
       "      <td>853</td>\n",
       "      <td>5</td>\n",
       "      <td>72</td>\n",
       "      <td>3.9</td>\n",
       "      <td>0.0</td>\n",
       "      <td>0.0</td>\n",
       "      <td>0.0</td>\n",
       "      <td>NaN</td>\n",
       "      <td>...</td>\n",
       "      <td>2010-07-22 16:00:00-04:00</td>\n",
       "      <td>Other Belgian-Style Ales</td>\n",
       "      <td>Belgian and French Ale</td>\n",
       "      <td>Michigan Brewing</td>\n",
       "      <td>1093 Highview Drive</td>\n",
       "      <td>Webberville</td>\n",
       "      <td>Michigan</td>\n",
       "      <td>United States</td>\n",
       "      <td>42.6616, -84.1946</td>\n",
       "      <td>http://www.michiganbrewing.com/</td>\n",
       "    </tr>\n",
       "    <tr>\n",
       "      <th>1</th>\n",
       "      <td>Buck Naked</td>\n",
       "      <td>4864</td>\n",
       "      <td>114</td>\n",
       "      <td>8</td>\n",
       "      <td>96</td>\n",
       "      <td>3.2</td>\n",
       "      <td>0.0</td>\n",
       "      <td>0.0</td>\n",
       "      <td>0.0</td>\n",
       "      <td>NaN</td>\n",
       "      <td>...</td>\n",
       "      <td>2010-07-22 16:00:00-04:00</td>\n",
       "      <td>American-Style Light Lager</td>\n",
       "      <td>North American Lager</td>\n",
       "      <td>Big Buck Brewery</td>\n",
       "      <td>550 South Wisconsin Avenue</td>\n",
       "      <td>Gaylord</td>\n",
       "      <td>Michigan</td>\n",
       "      <td>United States</td>\n",
       "      <td>45.0223, -84.6826</td>\n",
       "      <td>http://www.bigbuck.com/gaylord.html</td>\n",
       "    </tr>\n",
       "    <tr>\n",
       "      <th>2</th>\n",
       "      <td>Fat Belly Amber</td>\n",
       "      <td>93</td>\n",
       "      <td>879</td>\n",
       "      <td>3</td>\n",
       "      <td>33</td>\n",
       "      <td>0.0</td>\n",
       "      <td>0.0</td>\n",
       "      <td>0.0</td>\n",
       "      <td>0.0</td>\n",
       "      <td>NaN</td>\n",
       "      <td>...</td>\n",
       "      <td>2010-07-22 16:00:00-04:00</td>\n",
       "      <td>American-Style Amber/Red Ale</td>\n",
       "      <td>North American Ale</td>\n",
       "      <td>Montana Brewing</td>\n",
       "      <td>113 North Broadway</td>\n",
       "      <td>Billings</td>\n",
       "      <td>Montana</td>\n",
       "      <td>United States</td>\n",
       "      <td>45.7822, -108.506</td>\n",
       "      <td>NaN</td>\n",
       "    </tr>\n",
       "    <tr>\n",
       "      <th>3</th>\n",
       "      <td>Belgian Wit</td>\n",
       "      <td>98</td>\n",
       "      <td>901</td>\n",
       "      <td>-1</td>\n",
       "      <td>-1</td>\n",
       "      <td>0.0</td>\n",
       "      <td>0.0</td>\n",
       "      <td>0.0</td>\n",
       "      <td>0.0</td>\n",
       "      <td>NaN</td>\n",
       "      <td>...</td>\n",
       "      <td>2010-07-22 16:00:00-04:00</td>\n",
       "      <td>NaN</td>\n",
       "      <td>NaN</td>\n",
       "      <td>Nebraska Brewing Company</td>\n",
       "      <td>7474 Towne Center Parkway #101</td>\n",
       "      <td>Papillion</td>\n",
       "      <td>Nebraska</td>\n",
       "      <td>United States</td>\n",
       "      <td>41.1339, -96.0307</td>\n",
       "      <td>NaN</td>\n",
       "    </tr>\n",
       "    <tr>\n",
       "      <th>4</th>\n",
       "      <td>Crystal Ale</td>\n",
       "      <td>172</td>\n",
       "      <td>122</td>\n",
       "      <td>-1</td>\n",
       "      <td>-1</td>\n",
       "      <td>0.0</td>\n",
       "      <td>0.0</td>\n",
       "      <td>0.0</td>\n",
       "      <td>0.0</td>\n",
       "      <td>NaN</td>\n",
       "      <td>...</td>\n",
       "      <td>2010-07-22 16:00:00-04:00</td>\n",
       "      <td>NaN</td>\n",
       "      <td>NaN</td>\n",
       "      <td>Big Sky Brewing</td>\n",
       "      <td>5417 Trumpeter Way</td>\n",
       "      <td>Missoula</td>\n",
       "      <td>Montana</td>\n",
       "      <td>United States</td>\n",
       "      <td>46.9223, -114.073</td>\n",
       "      <td>NaN</td>\n",
       "    </tr>\n",
       "  </tbody>\n",
       "</table>\n",
       "<p>5 rows × 22 columns</p>\n",
       "</div>"
      ],
      "text/plain": [
       "              Name    id brewery_id cat_id style_id  Alcohol By Volume  \\\n",
       "0  Celis Raspberry  4813        853      5       72                3.9   \n",
       "1       Buck Naked  4864        114      8       96                3.2   \n",
       "2  Fat Belly Amber    93        879      3       33                0.0   \n",
       "3      Belgian Wit    98        901     -1       -1                0.0   \n",
       "4      Crystal Ale   172        122     -1       -1                0.0   \n",
       "\n",
       "   International Bitterness Units  Standard Reference Method  \\\n",
       "0                             0.0                        0.0   \n",
       "1                             0.0                        0.0   \n",
       "2                             0.0                        0.0   \n",
       "3                             0.0                        0.0   \n",
       "4                             0.0                        0.0   \n",
       "\n",
       "   Universal Product Code filepath  ...                   last_mod  \\\n",
       "0                     0.0      NaN  ...  2010-07-22 16:00:00-04:00   \n",
       "1                     0.0      NaN  ...  2010-07-22 16:00:00-04:00   \n",
       "2                     0.0      NaN  ...  2010-07-22 16:00:00-04:00   \n",
       "3                     0.0      NaN  ...  2010-07-22 16:00:00-04:00   \n",
       "4                     0.0      NaN  ...  2010-07-22 16:00:00-04:00   \n",
       "\n",
       "                          Style                Category  \\\n",
       "0      Other Belgian-Style Ales  Belgian and French Ale   \n",
       "1    American-Style Light Lager    North American Lager   \n",
       "2  American-Style Amber/Red Ale      North American Ale   \n",
       "3                           NaN                     NaN   \n",
       "4                           NaN                     NaN   \n",
       "\n",
       "                     Brewer                         Address         City  \\\n",
       "0          Michigan Brewing             1093 Highview Drive  Webberville   \n",
       "1          Big Buck Brewery      550 South Wisconsin Avenue      Gaylord   \n",
       "2           Montana Brewing              113 North Broadway     Billings   \n",
       "3  Nebraska Brewing Company  7474 Towne Center Parkway #101    Papillion   \n",
       "4           Big Sky Brewing              5417 Trumpeter Way     Missoula   \n",
       "\n",
       "      State        Country        Coordinates  \\\n",
       "0  Michigan  United States  42.6616, -84.1946   \n",
       "1  Michigan  United States  45.0223, -84.6826   \n",
       "2   Montana  United States  45.7822, -108.506   \n",
       "3  Nebraska  United States  41.1339, -96.0307   \n",
       "4   Montana  United States  46.9223, -114.073   \n",
       "\n",
       "                               Website  \n",
       "0      http://www.michiganbrewing.com/  \n",
       "1  http://www.bigbuck.com/gaylord.html  \n",
       "2                                  NaN  \n",
       "3                                  NaN  \n",
       "4                                  NaN  \n",
       "\n",
       "[5 rows x 22 columns]"
      ]
     },
     "execution_count": 11,
     "metadata": {},
     "output_type": "execute_result"
    }
   ],
   "source": [
    "#study data base\n",
    "beer_db.head()"
   ]
  },
  {
   "cell_type": "code",
   "execution_count": 12,
   "metadata": {},
   "outputs": [],
   "source": [
    "#drop the following columns from the data:\n",
    "# cat_id, style_id, International Bitterness Units, Standard Reference Method, Universal Product Code, Description, filepath, add_user, last_mod, Website\n",
    "beer_db.drop(columns=['cat_id','style_id','Alcohol By Volume', 'International Bitterness Units', 'Standard Reference Method', 'Universal Product Code', 'filepath', 'Description', 'add_user', 'last_mod','Coordinates', 'Website'], inplace=True)"
   ]
  },
  {
   "cell_type": "code",
   "execution_count": 13,
   "metadata": {},
   "outputs": [
    {
     "name": "stdout",
     "output_type": "stream",
     "text": [
      "<class 'pandas.core.frame.DataFrame'>\n",
      "RangeIndex: 5973 entries, 0 to 5972\n",
      "Data columns (total 10 columns):\n",
      " #   Column      Non-Null Count  Dtype \n",
      "---  ------      --------------  ----- \n",
      " 0   Name        5963 non-null   object\n",
      " 1   id          5973 non-null   object\n",
      " 2   brewery_id  5963 non-null   object\n",
      " 3   Style       4466 non-null   object\n",
      " 4   Category    4466 non-null   object\n",
      " 5   Brewer      5948 non-null   object\n",
      " 6   Address     5191 non-null   object\n",
      " 7   City        5921 non-null   object\n",
      " 8   State       5624 non-null   object\n",
      " 9   Country     5948 non-null   object\n",
      "dtypes: object(10)\n",
      "memory usage: 466.8+ KB\n"
     ]
    }
   ],
   "source": [
    "#study data base after removal of columns\n",
    "beer_db.info()"
   ]
  },
  {
   "cell_type": "code",
   "execution_count": 14,
   "metadata": {},
   "outputs": [],
   "source": [
    "#remove NaN values\n",
    "beer_db = beer_db.dropna(how=\"any\")"
   ]
  },
  {
   "cell_type": "code",
   "execution_count": 15,
   "metadata": {},
   "outputs": [
    {
     "name": "stdout",
     "output_type": "stream",
     "text": [
      "<class 'pandas.core.frame.DataFrame'>\n",
      "Int64Index: 3737 entries, 0 to 5972\n",
      "Data columns (total 10 columns):\n",
      " #   Column      Non-Null Count  Dtype \n",
      "---  ------      --------------  ----- \n",
      " 0   Name        3737 non-null   object\n",
      " 1   id          3737 non-null   object\n",
      " 2   brewery_id  3737 non-null   object\n",
      " 3   Style       3737 non-null   object\n",
      " 4   Category    3737 non-null   object\n",
      " 5   Brewer      3737 non-null   object\n",
      " 6   Address     3737 non-null   object\n",
      " 7   City        3737 non-null   object\n",
      " 8   State       3737 non-null   object\n",
      " 9   Country     3737 non-null   object\n",
      "dtypes: object(10)\n",
      "memory usage: 321.1+ KB\n"
     ]
    }
   ],
   "source": [
    "#study data base after removal of columns\n",
    "beer_db.info()"
   ]
  },
  {
   "cell_type": "code",
   "execution_count": 16,
   "metadata": {},
   "outputs": [
    {
     "data": {
      "text/html": [
       "<div>\n",
       "<style scoped>\n",
       "    .dataframe tbody tr th:only-of-type {\n",
       "        vertical-align: middle;\n",
       "    }\n",
       "\n",
       "    .dataframe tbody tr th {\n",
       "        vertical-align: top;\n",
       "    }\n",
       "\n",
       "    .dataframe thead th {\n",
       "        text-align: right;\n",
       "    }\n",
       "</style>\n",
       "<table border=\"1\" class=\"dataframe\">\n",
       "  <thead>\n",
       "    <tr style=\"text-align: right;\">\n",
       "      <th></th>\n",
       "      <th>Name</th>\n",
       "      <th>id</th>\n",
       "      <th>brewery_id</th>\n",
       "      <th>Style</th>\n",
       "      <th>Category</th>\n",
       "      <th>Brewer</th>\n",
       "      <th>Address</th>\n",
       "      <th>City</th>\n",
       "      <th>State</th>\n",
       "      <th>Country</th>\n",
       "    </tr>\n",
       "  </thead>\n",
       "  <tbody>\n",
       "    <tr>\n",
       "      <th>0</th>\n",
       "      <td>Celis Raspberry</td>\n",
       "      <td>4813</td>\n",
       "      <td>853</td>\n",
       "      <td>Other Belgian-Style Ales</td>\n",
       "      <td>Belgian and French Ale</td>\n",
       "      <td>Michigan Brewing</td>\n",
       "      <td>1093 Highview Drive</td>\n",
       "      <td>Webberville</td>\n",
       "      <td>Michigan</td>\n",
       "      <td>United States</td>\n",
       "    </tr>\n",
       "    <tr>\n",
       "      <th>1</th>\n",
       "      <td>Buck Naked</td>\n",
       "      <td>4864</td>\n",
       "      <td>114</td>\n",
       "      <td>American-Style Light Lager</td>\n",
       "      <td>North American Lager</td>\n",
       "      <td>Big Buck Brewery</td>\n",
       "      <td>550 South Wisconsin Avenue</td>\n",
       "      <td>Gaylord</td>\n",
       "      <td>Michigan</td>\n",
       "      <td>United States</td>\n",
       "    </tr>\n",
       "    <tr>\n",
       "      <th>2</th>\n",
       "      <td>Fat Belly Amber</td>\n",
       "      <td>93</td>\n",
       "      <td>879</td>\n",
       "      <td>American-Style Amber/Red Ale</td>\n",
       "      <td>North American Ale</td>\n",
       "      <td>Montana Brewing</td>\n",
       "      <td>113 North Broadway</td>\n",
       "      <td>Billings</td>\n",
       "      <td>Montana</td>\n",
       "      <td>United States</td>\n",
       "    </tr>\n",
       "    <tr>\n",
       "      <th>9</th>\n",
       "      <td>Log Cabin Nut Brown</td>\n",
       "      <td>1749</td>\n",
       "      <td>754</td>\n",
       "      <td>American-Style Brown Ale</td>\n",
       "      <td>North American Ale</td>\n",
       "      <td>Krogh's Restaurant and Brewpub</td>\n",
       "      <td>23 White Deer Plaza</td>\n",
       "      <td>Sparta</td>\n",
       "      <td>New Jersey</td>\n",
       "      <td>United States</td>\n",
       "    </tr>\n",
       "    <tr>\n",
       "      <th>10</th>\n",
       "      <td>Golden Wheat Light</td>\n",
       "      <td>1781</td>\n",
       "      <td>1134</td>\n",
       "      <td>American-Style Lager</td>\n",
       "      <td>North American Lager</td>\n",
       "      <td>Ship Inn Brewpub</td>\n",
       "      <td>61 Bridge Street</td>\n",
       "      <td>Milford</td>\n",
       "      <td>New Jersey</td>\n",
       "      <td>United States</td>\n",
       "    </tr>\n",
       "  </tbody>\n",
       "</table>\n",
       "</div>"
      ],
      "text/plain": [
       "                   Name    id brewery_id                         Style  \\\n",
       "0       Celis Raspberry  4813        853      Other Belgian-Style Ales   \n",
       "1            Buck Naked  4864        114    American-Style Light Lager   \n",
       "2       Fat Belly Amber    93        879  American-Style Amber/Red Ale   \n",
       "9   Log Cabin Nut Brown  1749        754      American-Style Brown Ale   \n",
       "10   Golden Wheat Light  1781       1134          American-Style Lager   \n",
       "\n",
       "                  Category                          Brewer  \\\n",
       "0   Belgian and French Ale                Michigan Brewing   \n",
       "1     North American Lager                Big Buck Brewery   \n",
       "2       North American Ale                 Montana Brewing   \n",
       "9       North American Ale  Krogh's Restaurant and Brewpub   \n",
       "10    North American Lager                Ship Inn Brewpub   \n",
       "\n",
       "                       Address         City       State        Country  \n",
       "0          1093 Highview Drive  Webberville    Michigan  United States  \n",
       "1   550 South Wisconsin Avenue      Gaylord    Michigan  United States  \n",
       "2           113 North Broadway     Billings     Montana  United States  \n",
       "9          23 White Deer Plaza       Sparta  New Jersey  United States  \n",
       "10            61 Bridge Street      Milford  New Jersey  United States  "
      ]
     },
     "execution_count": 16,
     "metadata": {},
     "output_type": "execute_result"
    }
   ],
   "source": [
    "beer_db.head()"
   ]
  },
  {
   "cell_type": "code",
   "execution_count": 17,
   "metadata": {},
   "outputs": [
    {
     "data": {
      "text/plain": [
       "array(['United States', 'Canada', 'Germany', 'Australia',\n",
       "       'United Kingdom', 'Netherlands', 'Russia', 'India', 'Norway',\n",
       "       'Belgium', 'Japan', 'Mexico', 'China', 'Ireland', 'Brazil'],\n",
       "      dtype=object)"
      ]
     },
     "execution_count": 17,
     "metadata": {},
     "output_type": "execute_result"
    }
   ],
   "source": [
    "#review country to remove any breweries that are not in the United States\n",
    "beer_db.Country.unique()"
   ]
  },
  {
   "cell_type": "code",
   "execution_count": 18,
   "metadata": {},
   "outputs": [
    {
     "data": {
      "text/plain": [
       "array(['United States'], dtype=object)"
      ]
     },
     "execution_count": 18,
     "metadata": {},
     "output_type": "execute_result"
    }
   ],
   "source": [
    "#remove all countries that are not the United States\n",
    "beer_db = beer_db.loc[beer_db[\"Country\"] == \"United States\", :]\n",
    "beer_db.Country.unique()"
   ]
  },
  {
   "cell_type": "code",
   "execution_count": 19,
   "metadata": {},
   "outputs": [],
   "source": [
    "#remove column Country since we no long need it for manipulation\n",
    "beer_db.drop(columns=['Country'], inplace=True)"
   ]
  },
  {
   "cell_type": "code",
   "execution_count": 20,
   "metadata": {},
   "outputs": [
    {
     "data": {
      "text/plain": [
       "array(['Michigan', 'Montana', 'New Jersey', 'Colorado', 'Wisconsin',\n",
       "       'Vermont', 'California', 'Connecticut', 'New York',\n",
       "       'New Hampshire', 'Alaska', 'Pennsylvania', 'Illinois',\n",
       "       'Massachusetts', 'Nevada', 'Washington', 'Arizona', 'Indiana',\n",
       "       'North Carolina', 'New Mexico', 'Nebraska', 'Rhode Island',\n",
       "       'Minnesota', 'MA', 'Oregon', 'Utah', 'Louisiana', 'South Carolina',\n",
       "       'Wyoming', 'Delaware', 'Missouri', 'Maryland', 'Texas', 'Kentucky',\n",
       "       'District of Columbia', 'Florida', 'NJ', 'Georgia', 'Ohio',\n",
       "       'Arkansas', 'Hawaii', 'Virginia', 'Tennessee', 'Iowa', 'NC',\n",
       "       'Oklahoma', 'Maine', 'MO', 'NY', 'Kansas', 'South Dakota', 'KS',\n",
       "       'Idaho', 'OH', 'WI', 'DC', 'MI'], dtype=object)"
      ]
     },
     "execution_count": 20,
     "metadata": {},
     "output_type": "execute_result"
    }
   ],
   "source": [
    "#review state names for consistancy\n",
    "beer_db.State.unique()"
   ]
  },
  {
   "cell_type": "code",
   "execution_count": 21,
   "metadata": {},
   "outputs": [],
   "source": [
    "#convert abbreviated states to full state names to match the DUI data set\n",
    "beer_db.replace({'State': {\"MA\": \"Massachusetts\", \"NJ\": \"New Jersey\", \"NC\": \"North Carolina\", \"MO\": \"Missouri\", \"NY\": \"New York\", \"KS\": \"Kansas\", \"OH\": \"Ohio\", \"WI\": \"Wisconsin\", \"DC\": \"District of Columbia\", \"MI\": \"Michigan\"}}, inplace=True)"
   ]
  },
  {
   "cell_type": "code",
   "execution_count": 22,
   "metadata": {},
   "outputs": [
    {
     "data": {
      "text/plain": [
       "array(['Michigan', 'Montana', 'New Jersey', 'Colorado', 'Wisconsin',\n",
       "       'Vermont', 'California', 'Connecticut', 'New York',\n",
       "       'New Hampshire', 'Alaska', 'Pennsylvania', 'Illinois',\n",
       "       'Massachusetts', 'Nevada', 'Washington', 'Arizona', 'Indiana',\n",
       "       'North Carolina', 'New Mexico', 'Nebraska', 'Rhode Island',\n",
       "       'Minnesota', 'Oregon', 'Utah', 'Louisiana', 'South Carolina',\n",
       "       'Wyoming', 'Delaware', 'Missouri', 'Maryland', 'Texas', 'Kentucky',\n",
       "       'District of Columbia', 'Florida', 'Georgia', 'Ohio', 'Arkansas',\n",
       "       'Hawaii', 'Virginia', 'Tennessee', 'Iowa', 'Oklahoma', 'Maine',\n",
       "       'Kansas', 'South Dakota', 'Idaho'], dtype=object)"
      ]
     },
     "execution_count": 22,
     "metadata": {},
     "output_type": "execute_result"
    }
   ],
   "source": [
    "#verify converstion to full state names\n",
    "beer_db.State.unique()"
   ]
  },
  {
   "cell_type": "code",
   "execution_count": 23,
   "metadata": {},
   "outputs": [],
   "source": [
    "#there isn't any DUI data for DC/District of Columbia so we will delete those records\n",
    "beer_db = beer_db.loc[beer_db['State'] != \"District of Columbia\", :]"
   ]
  },
  {
   "cell_type": "code",
   "execution_count": 24,
   "metadata": {},
   "outputs": [
    {
     "data": {
      "text/plain": [
       "array(['Michigan', 'Montana', 'New Jersey', 'Colorado', 'Wisconsin',\n",
       "       'Vermont', 'California', 'Connecticut', 'New York',\n",
       "       'New Hampshire', 'Alaska', 'Pennsylvania', 'Illinois',\n",
       "       'Massachusetts', 'Nevada', 'Washington', 'Arizona', 'Indiana',\n",
       "       'North Carolina', 'New Mexico', 'Nebraska', 'Rhode Island',\n",
       "       'Minnesota', 'Oregon', 'Utah', 'Louisiana', 'South Carolina',\n",
       "       'Wyoming', 'Delaware', 'Missouri', 'Maryland', 'Texas', 'Kentucky',\n",
       "       'Florida', 'Georgia', 'Ohio', 'Arkansas', 'Hawaii', 'Virginia',\n",
       "       'Tennessee', 'Iowa', 'Oklahoma', 'Maine', 'Kansas', 'South Dakota',\n",
       "       'Idaho'], dtype=object)"
      ]
     },
     "execution_count": 24,
     "metadata": {},
     "output_type": "execute_result"
    }
   ],
   "source": [
    "#verify removal of District of Columbia\n",
    "beer_db.State.unique()"
   ]
  },
  {
   "cell_type": "code",
   "execution_count": 25,
   "metadata": {},
   "outputs": [],
   "source": [
    "#rename columns for better understanding\n",
    "beer_db.rename(columns={\"Name\":\"beer_name\", \"id\":\"beer_id\"}, inplace=True)"
   ]
  },
  {
   "cell_type": "code",
   "execution_count": 26,
   "metadata": {
    "scrolled": true
   },
   "outputs": [
    {
     "name": "stdout",
     "output_type": "stream",
     "text": [
      "<class 'pandas.core.frame.DataFrame'>\n",
      "Int64Index: 3190 entries, 0 to 5972\n",
      "Data columns (total 9 columns):\n",
      " #   Column      Non-Null Count  Dtype \n",
      "---  ------      --------------  ----- \n",
      " 0   beer_name   3190 non-null   object\n",
      " 1   beer_id     3190 non-null   object\n",
      " 2   brewery_id  3190 non-null   object\n",
      " 3   Style       3190 non-null   object\n",
      " 4   Category    3190 non-null   object\n",
      " 5   Brewer      3190 non-null   object\n",
      " 6   Address     3190 non-null   object\n",
      " 7   City        3190 non-null   object\n",
      " 8   State       3190 non-null   object\n",
      "dtypes: object(9)\n",
      "memory usage: 249.2+ KB\n"
     ]
    }
   ],
   "source": [
    "#review file structure one last time before saving\n",
    "beer_db.info()"
   ]
  },
  {
   "cell_type": "code",
   "execution_count": 27,
   "metadata": {},
   "outputs": [],
   "source": [
    "#save cleaned data to file open_beer_db.csv\n",
    "beer_db.to_csv(\"Resources/open_beer_db.csv\", encoding='utf-8', index=False)"
   ]
  },
  {
   "cell_type": "code",
   "execution_count": 28,
   "metadata": {},
   "outputs": [],
   "source": [
    "#load DUI file\n",
    "dui_db = pd.read_csv(\"Resources/DUI.csv\")"
   ]
  },
  {
   "cell_type": "code",
   "execution_count": 29,
   "metadata": {},
   "outputs": [
    {
     "data": {
      "text/html": [
       "<div>\n",
       "<style scoped>\n",
       "    .dataframe tbody tr th:only-of-type {\n",
       "        vertical-align: middle;\n",
       "    }\n",
       "\n",
       "    .dataframe tbody tr th {\n",
       "        vertical-align: top;\n",
       "    }\n",
       "\n",
       "    .dataframe thead th {\n",
       "        text-align: right;\n",
       "    }\n",
       "</style>\n",
       "<table border=\"1\" class=\"dataframe\">\n",
       "  <thead>\n",
       "    <tr style=\"text-align: right;\">\n",
       "      <th></th>\n",
       "      <th>State</th>\n",
       "      <th>DUI</th>\n",
       "      <th>Fatalities</th>\n",
       "      <th>Population</th>\n",
       "      <th>SundaySales</th>\n",
       "    </tr>\n",
       "  </thead>\n",
       "  <tbody>\n",
       "    <tr>\n",
       "      <th>0</th>\n",
       "      <td>Alabama</td>\n",
       "      <td>7863</td>\n",
       "      <td>247</td>\n",
       "      <td>4858979</td>\n",
       "      <td>Prohibited</td>\n",
       "    </tr>\n",
       "    <tr>\n",
       "      <th>1</th>\n",
       "      <td>Alaska</td>\n",
       "      <td>3163</td>\n",
       "      <td>24</td>\n",
       "      <td>738432</td>\n",
       "      <td>Permitted</td>\n",
       "    </tr>\n",
       "    <tr>\n",
       "      <th>2</th>\n",
       "      <td>Arizona</td>\n",
       "      <td>22367</td>\n",
       "      <td>272</td>\n",
       "      <td>6828065</td>\n",
       "      <td>Permitted</td>\n",
       "    </tr>\n",
       "    <tr>\n",
       "      <th>3</th>\n",
       "      <td>Arkansas</td>\n",
       "      <td>6919</td>\n",
       "      <td>149</td>\n",
       "      <td>2978204</td>\n",
       "      <td>Local</td>\n",
       "    </tr>\n",
       "    <tr>\n",
       "      <th>4</th>\n",
       "      <td>California</td>\n",
       "      <td>141458</td>\n",
       "      <td>914</td>\n",
       "      <td>39144818</td>\n",
       "      <td>Permitted</td>\n",
       "    </tr>\n",
       "  </tbody>\n",
       "</table>\n",
       "</div>"
      ],
      "text/plain": [
       "        State     DUI  Fatalities  Population SundaySales\n",
       "0     Alabama    7863         247     4858979  Prohibited\n",
       "1      Alaska    3163          24      738432   Permitted\n",
       "2     Arizona   22367         272     6828065   Permitted\n",
       "3    Arkansas    6919         149     2978204       Local\n",
       "4  California  141458         914    39144818   Permitted"
      ]
     },
     "execution_count": 29,
     "metadata": {},
     "output_type": "execute_result"
    }
   ],
   "source": [
    "#print head to verify data\n",
    "dui_db.head()"
   ]
  },
  {
   "cell_type": "code",
   "execution_count": 30,
   "metadata": {
    "scrolled": true
   },
   "outputs": [],
   "source": [
    "#rename Sunday.Sales to Sunday_Sales\n",
    "dui_db.rename(columns={\"Sunday.Sales\":\"Sunday_Sales\"}, inplace=True)"
   ]
  },
  {
   "cell_type": "code",
   "execution_count": 31,
   "metadata": {},
   "outputs": [
    {
     "name": "stdout",
     "output_type": "stream",
     "text": [
      "<class 'pandas.core.frame.DataFrame'>\n",
      "RangeIndex: 50 entries, 0 to 49\n",
      "Data columns (total 5 columns):\n",
      " #   Column       Non-Null Count  Dtype \n",
      "---  ------       --------------  ----- \n",
      " 0   State        50 non-null     object\n",
      " 1   DUI          50 non-null     int64 \n",
      " 2   Fatalities   50 non-null     int64 \n",
      " 3   Population   50 non-null     int64 \n",
      " 4   SundaySales  50 non-null     object\n",
      "dtypes: int64(3), object(2)\n",
      "memory usage: 2.1+ KB\n"
     ]
    }
   ],
   "source": [
    "#study data base after removal of columns\n",
    "dui_db.info()"
   ]
  },
  {
   "cell_type": "code",
   "execution_count": 40,
   "metadata": {},
   "outputs": [],
   "source": [
    "#save cleaned data to file dui_db.csv\n",
    "dui_db.to_csv(\"Resources/dui_db.csv\", encoding='utf-8', index=False)"
   ]
  },
  {
   "cell_type": "code",
   "execution_count": 41,
   "metadata": {},
   "outputs": [],
   "source": [
    "#create database connection - you will need to change your password here for Postgres\n",
    "connection_string = \"postgres:<password-goes-here>@localhost:5432/DUIvsBeer\"\n",
    "engine = create_engine(f'postgresql://{connection_string}')"
   ]
  },
  {
   "cell_type": "code",
   "execution_count": 42,
   "metadata": {},
   "outputs": [
    {
     "data": {
      "text/plain": [
       "['beer_db', 'dui_db']"
      ]
     },
     "execution_count": 42,
     "metadata": {},
     "output_type": "execute_result"
    }
   ],
   "source": [
    "#Confirm tables\n",
    "engine.table_names()"
   ]
  },
  {
   "cell_type": "code",
   "execution_count": 43,
   "metadata": {},
   "outputs": [],
   "source": [
    "#Load DataFrames into database\n",
    "beer_db.to_sql(name='beer_db', con=engine, if_exists='append', index=True)\n",
    "dui_db.to_sql(name='dui_db', con=engine, if_exists='append', index=True)"
   ]
  },
  {
   "cell_type": "code",
   "execution_count": 44,
   "metadata": {},
   "outputs": [
    {
     "data": {
      "text/html": [
       "<div>\n",
       "<style scoped>\n",
       "    .dataframe tbody tr th:only-of-type {\n",
       "        vertical-align: middle;\n",
       "    }\n",
       "\n",
       "    .dataframe tbody tr th {\n",
       "        vertical-align: top;\n",
       "    }\n",
       "\n",
       "    .dataframe thead th {\n",
       "        text-align: right;\n",
       "    }\n",
       "</style>\n",
       "<table border=\"1\" class=\"dataframe\">\n",
       "  <thead>\n",
       "    <tr style=\"text-align: right;\">\n",
       "      <th></th>\n",
       "      <th>index</th>\n",
       "      <th>beer_name</th>\n",
       "      <th>beer_id</th>\n",
       "      <th>brewery_id</th>\n",
       "      <th>Style</th>\n",
       "      <th>Category</th>\n",
       "      <th>Brewer</th>\n",
       "      <th>Address</th>\n",
       "      <th>City</th>\n",
       "      <th>State</th>\n",
       "    </tr>\n",
       "  </thead>\n",
       "  <tbody>\n",
       "    <tr>\n",
       "      <th>0</th>\n",
       "      <td>0</td>\n",
       "      <td>Celis Raspberry</td>\n",
       "      <td>4813</td>\n",
       "      <td>853</td>\n",
       "      <td>Other Belgian-Style Ales</td>\n",
       "      <td>Belgian and French Ale</td>\n",
       "      <td>Michigan Brewing</td>\n",
       "      <td>1093 Highview Drive</td>\n",
       "      <td>Webberville</td>\n",
       "      <td>Michigan</td>\n",
       "    </tr>\n",
       "    <tr>\n",
       "      <th>1</th>\n",
       "      <td>1</td>\n",
       "      <td>Buck Naked</td>\n",
       "      <td>4864</td>\n",
       "      <td>114</td>\n",
       "      <td>American-Style Light Lager</td>\n",
       "      <td>North American Lager</td>\n",
       "      <td>Big Buck Brewery</td>\n",
       "      <td>550 South Wisconsin Avenue</td>\n",
       "      <td>Gaylord</td>\n",
       "      <td>Michigan</td>\n",
       "    </tr>\n",
       "    <tr>\n",
       "      <th>2</th>\n",
       "      <td>2</td>\n",
       "      <td>Fat Belly Amber</td>\n",
       "      <td>93</td>\n",
       "      <td>879</td>\n",
       "      <td>American-Style Amber/Red Ale</td>\n",
       "      <td>North American Ale</td>\n",
       "      <td>Montana Brewing</td>\n",
       "      <td>113 North Broadway</td>\n",
       "      <td>Billings</td>\n",
       "      <td>Montana</td>\n",
       "    </tr>\n",
       "    <tr>\n",
       "      <th>3</th>\n",
       "      <td>9</td>\n",
       "      <td>Log Cabin Nut Brown</td>\n",
       "      <td>1749</td>\n",
       "      <td>754</td>\n",
       "      <td>American-Style Brown Ale</td>\n",
       "      <td>North American Ale</td>\n",
       "      <td>Krogh's Restaurant and Brewpub</td>\n",
       "      <td>23 White Deer Plaza</td>\n",
       "      <td>Sparta</td>\n",
       "      <td>New Jersey</td>\n",
       "    </tr>\n",
       "    <tr>\n",
       "      <th>4</th>\n",
       "      <td>10</td>\n",
       "      <td>Golden Wheat Light</td>\n",
       "      <td>1781</td>\n",
       "      <td>1134</td>\n",
       "      <td>American-Style Lager</td>\n",
       "      <td>North American Lager</td>\n",
       "      <td>Ship Inn Brewpub</td>\n",
       "      <td>61 Bridge Street</td>\n",
       "      <td>Milford</td>\n",
       "      <td>New Jersey</td>\n",
       "    </tr>\n",
       "  </tbody>\n",
       "</table>\n",
       "</div>"
      ],
      "text/plain": [
       "   index            beer_name beer_id brewery_id  \\\n",
       "0      0      Celis Raspberry    4813        853   \n",
       "1      1           Buck Naked    4864        114   \n",
       "2      2      Fat Belly Amber      93        879   \n",
       "3      9  Log Cabin Nut Brown    1749        754   \n",
       "4     10   Golden Wheat Light    1781       1134   \n",
       "\n",
       "                          Style                Category  \\\n",
       "0      Other Belgian-Style Ales  Belgian and French Ale   \n",
       "1    American-Style Light Lager    North American Lager   \n",
       "2  American-Style Amber/Red Ale      North American Ale   \n",
       "3      American-Style Brown Ale      North American Ale   \n",
       "4          American-Style Lager    North American Lager   \n",
       "\n",
       "                           Brewer                     Address         City  \\\n",
       "0                Michigan Brewing         1093 Highview Drive  Webberville   \n",
       "1                Big Buck Brewery  550 South Wisconsin Avenue      Gaylord   \n",
       "2                 Montana Brewing          113 North Broadway     Billings   \n",
       "3  Krogh's Restaurant and Brewpub         23 White Deer Plaza       Sparta   \n",
       "4                Ship Inn Brewpub            61 Bridge Street      Milford   \n",
       "\n",
       "        State  \n",
       "0    Michigan  \n",
       "1    Michigan  \n",
       "2     Montana  \n",
       "3  New Jersey  \n",
       "4  New Jersey  "
      ]
     },
     "execution_count": 44,
     "metadata": {},
     "output_type": "execute_result"
    }
   ],
   "source": [
    "#Doing a query to make sure it is loading\n",
    "pd.read_sql_query('select * from beer_db', con=engine).head()"
   ]
  },
  {
   "cell_type": "code",
   "execution_count": 45,
   "metadata": {},
   "outputs": [
    {
     "data": {
      "text/html": [
       "<div>\n",
       "<style scoped>\n",
       "    .dataframe tbody tr th:only-of-type {\n",
       "        vertical-align: middle;\n",
       "    }\n",
       "\n",
       "    .dataframe tbody tr th {\n",
       "        vertical-align: top;\n",
       "    }\n",
       "\n",
       "    .dataframe thead th {\n",
       "        text-align: right;\n",
       "    }\n",
       "</style>\n",
       "<table border=\"1\" class=\"dataframe\">\n",
       "  <thead>\n",
       "    <tr style=\"text-align: right;\">\n",
       "      <th></th>\n",
       "      <th>index</th>\n",
       "      <th>State</th>\n",
       "      <th>DUI</th>\n",
       "      <th>Fatalities</th>\n",
       "      <th>Population</th>\n",
       "      <th>SundaySales</th>\n",
       "    </tr>\n",
       "  </thead>\n",
       "  <tbody>\n",
       "    <tr>\n",
       "      <th>0</th>\n",
       "      <td>0</td>\n",
       "      <td>Alabama</td>\n",
       "      <td>7863</td>\n",
       "      <td>247</td>\n",
       "      <td>4858979</td>\n",
       "      <td>Prohibited</td>\n",
       "    </tr>\n",
       "    <tr>\n",
       "      <th>1</th>\n",
       "      <td>1</td>\n",
       "      <td>Alaska</td>\n",
       "      <td>3163</td>\n",
       "      <td>24</td>\n",
       "      <td>738432</td>\n",
       "      <td>Permitted</td>\n",
       "    </tr>\n",
       "    <tr>\n",
       "      <th>2</th>\n",
       "      <td>2</td>\n",
       "      <td>Arizona</td>\n",
       "      <td>22367</td>\n",
       "      <td>272</td>\n",
       "      <td>6828065</td>\n",
       "      <td>Permitted</td>\n",
       "    </tr>\n",
       "    <tr>\n",
       "      <th>3</th>\n",
       "      <td>3</td>\n",
       "      <td>Arkansas</td>\n",
       "      <td>6919</td>\n",
       "      <td>149</td>\n",
       "      <td>2978204</td>\n",
       "      <td>Local</td>\n",
       "    </tr>\n",
       "    <tr>\n",
       "      <th>4</th>\n",
       "      <td>4</td>\n",
       "      <td>California</td>\n",
       "      <td>141458</td>\n",
       "      <td>914</td>\n",
       "      <td>39144818</td>\n",
       "      <td>Permitted</td>\n",
       "    </tr>\n",
       "  </tbody>\n",
       "</table>\n",
       "</div>"
      ],
      "text/plain": [
       "   index       State     DUI  Fatalities  Population SundaySales\n",
       "0      0     Alabama    7863         247     4858979  Prohibited\n",
       "1      1      Alaska    3163          24      738432   Permitted\n",
       "2      2     Arizona   22367         272     6828065   Permitted\n",
       "3      3    Arkansas    6919         149     2978204       Local\n",
       "4      4  California  141458         914    39144818   Permitted"
      ]
     },
     "execution_count": 45,
     "metadata": {},
     "output_type": "execute_result"
    }
   ],
   "source": [
    "#Doing a query to make sure it is loading\n",
    "pd.read_sql_query('select * from dui_db', con=engine).head()"
   ]
  },
  {
   "cell_type": "code",
   "execution_count": null,
   "metadata": {},
   "outputs": [],
   "source": []
  }
 ],
 "metadata": {
  "kernelspec": {
   "display_name": "Python 3.7.6 64-bit ('PythonData': conda)",
   "language": "python",
   "name": "python37664bitpythondataconda45bb40860bfe4aa0b5c96f5dfc589daf"
  },
  "language_info": {
   "codemirror_mode": {
    "name": "ipython",
    "version": 3
   },
   "file_extension": ".py",
   "mimetype": "text/x-python",
   "name": "python",
   "nbconvert_exporter": "python",
   "pygments_lexer": "ipython3",
   "version": "3.7.6"
  }
 },
 "nbformat": 4,
 "nbformat_minor": 2
}
